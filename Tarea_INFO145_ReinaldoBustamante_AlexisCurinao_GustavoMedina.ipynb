{
 "cells": [
  {
   "cell_type": "markdown",
   "metadata": {},
   "source": [
    "<h1><center>Tarea 1: Esquemas de Decodificacion Instantanea - INFO145</center></h1>\n"
   ]
  },
  {
   "cell_type": "markdown",
   "metadata": {},
   "source": [
    "# 1. Importacion de T[1..N] y Librerias"
   ]
  },
  {
   "cell_type": "code",
   "execution_count": 2,
   "metadata": {},
   "outputs": [],
   "source": [
    "#importacion libreria\n",
    "\n",
    "%matplotlib notebook\n",
    "import matplotlib.pyplot as plt\n",
    "import numpy as np\n",
    "import pandas as pd\n",
    "import time\n"
   ]
  },
  {
   "cell_type": "code",
   "execution_count": 3,
   "metadata": {},
   "outputs": [],
   "source": [
    "def importarTexto(x):\n",
    "    file = open(x,'r')\n",
    "    data=file.readlines() \n",
    "    file.close() \n",
    "    data_str = []\n",
    "    for i in range(len(data)):\n",
    "        for j in range (len(data[i])):\n",
    "            data_str += data[i][j]\n",
    "    return data_str"
   ]
  },
  {
   "cell_type": "code",
   "execution_count": 4,
   "metadata": {},
   "outputs": [],
   "source": [
    "data_prueba = importarTexto('prueba.txt')\n",
    "data_dna = importarTexto('dna.1MB')\n",
    "data_english = importarTexto('english.1MB')"
   ]
  },
  {
   "cell_type": "markdown",
   "metadata": {},
   "source": [
    "# 2. Obtencion del alfabeto del texto"
   ]
  },
  {
   "cell_type": "code",
   "execution_count": 5,
   "metadata": {},
   "outputs": [],
   "source": [
    "def no_esta(array,b):\n",
    "    verificador = True\n",
    "    for i in range(len(array)):\n",
    "        if array[i] == b :\n",
    "            verificador = False\n",
    "    return verificador"
   ]
  },
  {
   "cell_type": "code",
   "execution_count": 6,
   "metadata": {},
   "outputs": [],
   "source": [
    "def alfabeto(x):\n",
    "    alfabeto = []\n",
    "    for i in range(len(x)):\n",
    "        if no_esta(alfabeto,x[i]):\n",
    "            alfabeto +=  x[i]\n",
    "    return alfabeto\n"
   ]
  },
  {
   "cell_type": "code",
   "execution_count": 7,
   "metadata": {},
   "outputs": [],
   "source": [
    "alfabeto_dna = alfabeto(data_dna)\n",
    "alfabeto_english = alfabeto(data_english)\n",
    "alfabeto_prueba = alfabeto(data_prueba)"
   ]
  },
  {
   "cell_type": "markdown",
   "metadata": {},
   "source": [
    "# 3. Implementacion Algoritmo Shannon"
   ]
  },
  {
   "cell_type": "markdown",
   "metadata": {},
   "source": [
    "Los pasos para desarrollar este algoritmo son los siguientes: \n",
    "* **(1) Para una secuencia de símbolos, se calcula la correspondiente lista de frecuencias de aparición de los símbolos**\n",
    "* **(2) Se ordena la lista de símbolos según su frecuencia en orden decreciente**\n",
    "* **(3) Se divide la lista en dos partes, de forma que la suma total de frecuencias de las 2 mitades sean lo más cercana posible**\n",
    "* **(4)  A la mitad superior de la lista se le asigna el dígito binario 1, y a la mitad inferior se le asigna el dígito binario 0. Esto significa que los códigos de los símbolos en la primera mitad empezarán todos con 1 y los códigos en la segunda mitad empezarán todos con 0**\n",
    "* **(5) Recursivamente se aplica el mismo procedimiento a cada una de las dos mitades, se subdivide en grupos y se agregan bits a las códigos hasta que cada grupo conste de un único símbolo**"
   ]
  },
  {
   "cell_type": "code",
   "execution_count": 8,
   "metadata": {},
   "outputs": [],
   "source": [
    "def probabilidad(simbolo,simbolo_totales,sec): # funcion para calcular probabilidades\n",
    "    contador = 0\n",
    "    contador = contador + sec.count(simbolo)\n",
    "    return contador/simbolo_totales\n",
    "def get_indice(x): # obtiene el indice donde se va a dividir la lista\n",
    "    c= 0\n",
    "    q= len(x)-1\n",
    "    a = x.Probabilidad[c]\n",
    "    b = x.Probabilidad[q]\n",
    "    while (c+1) != q and c!=q:\n",
    "        if b<=a:\n",
    "            b += x.Probabilidad[(q-1)]\n",
    "            q -= 1\n",
    "        if a<b :\n",
    "            a += x.Probabilidad[(c+1)]\n",
    "            c+= 1\n",
    "    if c== q :\n",
    "        c -= 1\n",
    "    return c,q \n",
    "def div_list(x): # divide las lista en 2 \n",
    "        fin_lista_1 = get_indice(x)[0]\n",
    "        comienzo_lista_2 = get_indice(x)[1]\n",
    "        div_1 = x[0:fin_lista_1+1]\n",
    "        div_2 = x[comienzo_lista_2:]\n",
    "        return div_1, div_2\n",
    "def code(x):\n",
    "    if len(x)>=2:\n",
    "        table_1 = div_list(x)[0] #obtiene la lista de la mitad superior\n",
    "        table_2 = div_list(x)[1] #obtiene la lista de la mitad inferior\n",
    "        table_1.Code += '1'\n",
    "        code(table_1)  # recursivamente codifica la lista de la mitad superior\n",
    "        table_2.Code +='0'\n",
    "        code(table_2)  # recursivamente codifica la lista de la mitad superior\n",
    "        return x\n",
    "\n",
    "def shannon(x, sec): # x corresponde al alfabeto , sec a secuencia\n",
    "#........................................................................................................................\n",
    "#......................Primero se calculara la frecuencia de los simbolos del alfabeto....................................\n",
    "#.........................................................................................................................\n",
    "    simbolos_totales = len(sec) #numero total de simbolos de la secuencia\n",
    "    probs = [] # se crea un arreglo con  sus probabilidades \n",
    "    for i in range(len(x)):\n",
    "        probs += [probabilidad(x[i],simbolos_totales,sec)]\n",
    "#..........................................................................................................................\n",
    "#......................Se Creara un dataframe con los simbolos y sus probabilidades........................................\n",
    "#..........................................................................................................................\n",
    "    df = pd.DataFrame({'Simbolo': x,'Probabilidad': probs, 'Code': ''})\n",
    "    df.index = df['Simbolo']\n",
    "    df.drop(['Simbolo'], axis= 1 , inplace= True)\n",
    "#...........................................................................................................................\n",
    "#.............................Ordenamiento de las probabilidades(Descendente)...............................................\n",
    "#...........................................................................................................................\n",
    "    df.sort_values(by=['Probabilidad'], ascending = False, inplace = True)\n",
    "#............................................................................................................................\n",
    "#..........................................Obtencion del alfabeto de codificacion............................................\n",
    "#............................................................................................................................\n",
    "    df = code(df)\n",
    "    a = df.copy()\n",
    "    return a\n",
    "#............................................................................................................................\n",
    "#...............................................Codificacion.................................................................\n",
    "#............................................................................................................................\n",
    "def codificacionShannon(x,sec,largo):# x corresponde al alfabeto , sec a secuencia, largo = tramo de la secuencia a codificar\n",
    "    df = shannon(x,sec)\n",
    "    codificacion = ''\n",
    "    for i in range(largo): # largo tiene que se >0\n",
    "        codificacion += df[df.index == sec[i]].Code[0]\n",
    "    return codificacion\n",
    "        "
   ]
  },
  {
   "cell_type": "code",
   "execution_count": 326,
   "metadata": {},
   "outputs": [
    {
     "name": "stdout",
     "output_type": "stream",
     "text": [
      "0.1 en codificar\n",
      "011011001101011011001\n"
     ]
    }
   ],
   "source": [
    "inicio = time.time()\n",
    "codificacion = codificacionShannon(alfabeto_dna,data_dna,10)#codificacion del caracter 1 hasta el 999\n",
    "final = time.time()\n",
    "print(round(final-inicio,1),'en codificar')\n",
    "print(codificacion)"
   ]
  },
  {
   "cell_type": "markdown",
   "metadata": {},
   "source": [
    "# 4. Implementacion Algoritmo Decodificacion Shannon"
   ]
  },
  {
   "cell_type": "code",
   "execution_count": 340,
   "metadata": {},
   "outputs": [],
   "source": [
    "def dividirTabla(tabla,k,cod): #funcion para dividir la tabla donde tabla = tabla, k=posicion de tabla.Code[j][k],\n",
    "                               #cod = la posicion x de nuestro codigo codigo[i]\n",
    "    j = 0 #parte en j= 0, j sera el largo de nuestra nueva tabla si es 1 o el inicio de nuestra nueva tabla si es 0\n",
    "    if cod == '1': # si es 1 entonces a j se le sumara unos hasta que en la columna de codigos de la tabla el elemento k sea\n",
    "                   # distinto de 1\n",
    "        while(tabla.Code[j][k] =='1') :\n",
    "            j += 1\n",
    "        return tabla[0:j] # retorno la tabla desde la posicion 0 hasta la j ya que esta me devolvera todos los valores que en la\n",
    "                         #k-esima posicion sean 1 ( esto se hizo asi por que siempre las tablas de shannon parten con 1xxxx y\n",
    "                            #termina con 0xxxx\n",
    "    if cod == '0': # si es 0 entonces a j se le sumaran unos hasta que en la columna de codigos de la tabla el elemento k sea\n",
    "                    # igual a 0\n",
    "        while(tabla.Code[j][k] !='0'):\n",
    "            j += 1\n",
    "        return tabla[j:len(tabla)] #retorna la tabla desde la posicion j hasta el largo de la tabla actual\n",
    "    \n",
    "\n",
    "def decodificacionShannon(x,sec,codigo):\n",
    "    deco = ''\n",
    "    tabla = shannon(x,sec) # obtengo la tabla\n",
    "    tabla_inicial = tabla.copy() # hago una copia de la tabla\n",
    "    k = 0\n",
    "    for i in range(len(codigo)):\n",
    "        tabla = dividirTabla(tabla,k,codigo[i]) #divide recursivamente la tabla hasta llegar a una con largo 1\n",
    "        k += 1 # se le suma 1 a k para que la siguiente vez que entre a la funcion dividirTabla busque en el segundo elemento\n",
    "               #de la columna code de la tabla\n",
    "        if len(tabla)==1 : #al llegar al largo 1 obtendremos el indice de esta ya que este pertenece al simbolo\n",
    "            deco += tabla.index[0] #concateno el simbolo con lo que estaba antes para asi ir formando la decodificacion\n",
    "            tabla = tabla_inicial # reseteo la tabla para que al buscar el segundo simbolo esta parta de 0 \n",
    "            k=0 #reseteo el k para a la siguiente vuelta busque en tabla.Code[j][0]\n",
    "    return deco"
   ]
  },
  {
   "cell_type": "code",
   "execution_count": 343,
   "metadata": {},
   "outputs": [
    {
     "data": {
      "text/plain": [
       "'GATCAATGAG'"
      ]
     },
     "execution_count": 343,
     "metadata": {},
     "output_type": "execute_result"
    }
   ],
   "source": [
    "decodificacionShannon(alfabeto_dna,data_dna,codificacion)"
   ]
  },
  {
   "cell_type": "markdown",
   "metadata": {},
   "source": [
    "# 5. Implementacion Algoritmo Huffman Canonico"
   ]
  },
  {
   "cell_type": "markdown",
   "metadata": {},
   "source": [
    "# 6. Implementacion Algoritmo Decodificacion Huffman Canonico"
   ]
  },
  {
   "cell_type": "code",
   "execution_count": null,
   "metadata": {},
   "outputs": [],
   "source": []
  },
  {
   "cell_type": "code",
   "execution_count": null,
   "metadata": {},
   "outputs": [],
   "source": []
  },
  {
   "cell_type": "code",
   "execution_count": null,
   "metadata": {},
   "outputs": [],
   "source": []
  },
  {
   "cell_type": "code",
   "execution_count": null,
   "metadata": {},
   "outputs": [],
   "source": []
  },
  {
   "cell_type": "code",
   "execution_count": null,
   "metadata": {},
   "outputs": [],
   "source": []
  },
  {
   "cell_type": "code",
   "execution_count": null,
   "metadata": {},
   "outputs": [],
   "source": []
  },
  {
   "cell_type": "code",
   "execution_count": null,
   "metadata": {},
   "outputs": [],
   "source": []
  },
  {
   "cell_type": "code",
   "execution_count": null,
   "metadata": {},
   "outputs": [],
   "source": []
  },
  {
   "cell_type": "code",
   "execution_count": null,
   "metadata": {},
   "outputs": [],
   "source": []
  },
  {
   "cell_type": "code",
   "execution_count": null,
   "metadata": {},
   "outputs": [],
   "source": []
  }
 ],
 "metadata": {
  "kernelspec": {
   "display_name": "Python 3",
   "language": "python",
   "name": "python3"
  },
  "language_info": {
   "codemirror_mode": {
    "name": "ipython",
    "version": 3
   },
   "file_extension": ".py",
   "mimetype": "text/x-python",
   "name": "python",
   "nbconvert_exporter": "python",
   "pygments_lexer": "ipython3",
   "version": "3.8.3"
  }
 },
 "nbformat": 4,
 "nbformat_minor": 4
}
