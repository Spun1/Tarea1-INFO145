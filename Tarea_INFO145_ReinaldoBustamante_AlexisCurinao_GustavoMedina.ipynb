{
 "cells": [
  {
   "cell_type": "markdown",
   "metadata": {},
   "source": [
    "<h1><center>Tarea 1: Esquemas de Decodificacion Instantanea - INFO145</center></h1>\n"
   ]
  },
  {
   "cell_type": "markdown",
   "metadata": {},
   "source": [
    "# 1. Importacion de T[1..N] y Librerias"
   ]
  },
  {
   "cell_type": "code",
   "execution_count": 1,
   "metadata": {},
   "outputs": [
    {
     "data": {
      "text/plain": [
       "'Versión de pandas 1.0.5'"
      ]
     },
     "metadata": {},
     "output_type": "display_data"
    }
   ],
   "source": [
    "#importacion libreria\n",
    "\n",
    "%matplotlib notebook\n",
    "import matplotlib.pyplot as plt\n",
    "import numpy as np\n",
    "import pandas as pd\n",
    "\n",
    "display(\"Versión de pandas \"+pd.__version__)\n"
   ]
  },
  {
   "cell_type": "code",
   "execution_count": 2,
   "metadata": {},
   "outputs": [],
   "source": [
    "# importacion T[1..N] de dna.1MB\n",
    "file = open('dna.1MB','r')\n",
    "data_dna=file.readlines() \n",
    "file.close() \n"
   ]
  },
  {
   "cell_type": "code",
   "execution_count": 3,
   "metadata": {},
   "outputs": [],
   "source": [
    "# Importacion T[1..N] de english.1MB\n",
    "file = open('english.1MB','r')\n",
    "data_english=file.readlines() \n",
    "file.close() "
   ]
  },
  {
   "cell_type": "markdown",
   "metadata": {},
   "source": [
    "# 2. Obtencion del alfabeto del texto"
   ]
  },
  {
   "cell_type": "code",
   "execution_count": 4,
   "metadata": {},
   "outputs": [],
   "source": [
    "def no_esta(array,b):\n",
    "    verificador = True\n",
    "    for i in range(len(array)):\n",
    "        if array[i] == b :\n",
    "            verificador = False\n",
    "    return verificador"
   ]
  },
  {
   "cell_type": "code",
   "execution_count": 5,
   "metadata": {},
   "outputs": [],
   "source": [
    "alfabeto_dna = [data_dna[0][0]]\n",
    "for i in range(len(data_dna)):\n",
    "    for j in range(len(data_dna[i])):\n",
    "        if no_esta(alfabeto_dna,data_dna[i][j]):\n",
    "            alfabeto_dna +=  data_dna[i][j]\n",
    "\n",
    "alfabeto_english = [data_english[0][0]]\n",
    "for i in range(len(data_english)):\n",
    "    for j in range(len(data_english[i])):\n",
    "        if no_esta(alfabeto_english,data_english[i][j]):\n",
    "            alfabeto_english +=  data_english[i][j]\n"
   ]
  },
  {
   "cell_type": "code",
   "execution_count": 6,
   "metadata": {},
   "outputs": [
    {
     "name": "stdout",
     "output_type": "stream",
     "text": [
      "['G', 'A', 'T', 'C', '\\n', 'N']\n"
     ]
    }
   ],
   "source": [
    "print(alfabeto_dna)"
   ]
  },
  {
   "cell_type": "code",
   "execution_count": 7,
   "metadata": {},
   "outputs": [
    {
     "name": "stdout",
     "output_type": "stream",
     "text": [
      "['\\n', 'T', 'h', 'i', 's', ' ', 'e', 't', 'x', 'w', 'a', 'p', 'r', 'o', 'd', 'u', 'c', 'b', 'y', 'N', 'm', 'l', 'W', '.', 'n', 'D', 'S', 'k', 'J', 'R', '[', \"'\", ':', 'I', 'O', '8', '9', '1', '-', 'L', '(', ')', 'f', ',', 'A', 'g', 'v', '\"', '_', '7', '0', '2', 'G', 'F', '/', '3', '4', '6', '5', 'E', 'M', 'B', 'P', 'H', 'U', ']', 'C', 'V', 'q', '’', 'X', '—', 'z', '“', '”', ';', '?', 'K', '…', 'j', 'é', 'Y', 'Z', '!', 'Q', '%', '*', 'æ', 'ü', 'ç', '|', '&', '#', 'è', 'ë', '+', '–', '‘', 'ô', '{', '}', '$', 'É', '>', '\\t', 'ö']\n"
     ]
    }
   ],
   "source": [
    "print(alfabeto_english)"
   ]
  },
  {
   "cell_type": "markdown",
   "metadata": {},
   "source": [
    "# 3. Obtencion de las probabilidades de aparicion del alfabeto en el texto "
   ]
  },
  {
   "cell_type": "markdown",
   "metadata": {},
   "source": [
    "* ## Para el texto DNA"
   ]
  },
  {
   "cell_type": "code",
   "execution_count": 8,
   "metadata": {},
   "outputs": [],
   "source": [
    "#numero total de simbolos de digitos del texto DNA\n",
    "simbolos_totales = 0\n",
    "for i in range(len(data_dna)):\n",
    "    for j in range(len(data_dna[i])):\n",
    "        simbolos_totales += 1\n"
   ]
  },
  {
   "cell_type": "code",
   "execution_count": 9,
   "metadata": {},
   "outputs": [],
   "source": [
    "#funcion para retornar la probabilidad de aparicion del digito en el texto DNA\n",
    "def probabilidad(simbolo,simbolo_totales):\n",
    "    contador = 0\n",
    "    for i in range(len(data_dna)):\n",
    "        contador = contador + data_dna[i].count(simbolo)\n",
    "    return contador/simbolo_totales"
   ]
  },
  {
   "cell_type": "code",
   "execution_count": 10,
   "metadata": {},
   "outputs": [
    {
     "name": "stdout",
     "output_type": "stream",
     "text": [
      "[0.236779, 0.257934, 0.270851, 0.234429, 6e-06, 1e-06]\n"
     ]
    }
   ],
   "source": [
    "# se crea un arreglo con los digitos y sus probabilidades del texto DNA\n",
    "probs_dna = []\n",
    "for i in range(len(alfabeto_dna)):\n",
    "    probs_dna += [probabilidad(alfabeto_dna[i],simbolos_totales)]\n",
    "print(probs_dna)"
   ]
  },
  {
   "cell_type": "code",
   "execution_count": 11,
   "metadata": {},
   "outputs": [],
   "source": [
    "df_dna = pd.DataFrame({'Simbolo': alfabeto_dna,'Probabilidad': probs_dna})"
   ]
  },
  {
   "cell_type": "code",
   "execution_count": 13,
   "metadata": {},
   "outputs": [
    {
     "data": {
      "text/html": [
       "<div>\n",
       "<style scoped>\n",
       "    .dataframe tbody tr th:only-of-type {\n",
       "        vertical-align: middle;\n",
       "    }\n",
       "\n",
       "    .dataframe tbody tr th {\n",
       "        vertical-align: top;\n",
       "    }\n",
       "\n",
       "    .dataframe thead th {\n",
       "        text-align: right;\n",
       "    }\n",
       "</style>\n",
       "<table border=\"1\" class=\"dataframe\">\n",
       "  <thead>\n",
       "    <tr style=\"text-align: right;\">\n",
       "      <th></th>\n",
       "      <th>Simbolo</th>\n",
       "      <th>Probabilidad</th>\n",
       "    </tr>\n",
       "  </thead>\n",
       "  <tbody>\n",
       "    <tr>\n",
       "      <th>0</th>\n",
       "      <td>G</td>\n",
       "      <td>0.236779</td>\n",
       "    </tr>\n",
       "    <tr>\n",
       "      <th>1</th>\n",
       "      <td>A</td>\n",
       "      <td>0.257934</td>\n",
       "    </tr>\n",
       "    <tr>\n",
       "      <th>2</th>\n",
       "      <td>T</td>\n",
       "      <td>0.270851</td>\n",
       "    </tr>\n",
       "    <tr>\n",
       "      <th>3</th>\n",
       "      <td>C</td>\n",
       "      <td>0.234429</td>\n",
       "    </tr>\n",
       "    <tr>\n",
       "      <th>4</th>\n",
       "      <td>\\n</td>\n",
       "      <td>0.000006</td>\n",
       "    </tr>\n",
       "    <tr>\n",
       "      <th>5</th>\n",
       "      <td>N</td>\n",
       "      <td>0.000001</td>\n",
       "    </tr>\n",
       "  </tbody>\n",
       "</table>\n",
       "</div>"
      ],
      "text/plain": [
       "  Simbolo  Probabilidad\n",
       "0       G      0.236779\n",
       "1       A      0.257934\n",
       "2       T      0.270851\n",
       "3       C      0.234429\n",
       "4      \\n      0.000006\n",
       "5       N      0.000001"
      ]
     },
     "execution_count": 13,
     "metadata": {},
     "output_type": "execute_result"
    }
   ],
   "source": [
    "df_dna"
   ]
  },
  {
   "cell_type": "markdown",
   "metadata": {},
   "source": [
    "* ## Para el texto ENGLISH"
   ]
  },
  {
   "cell_type": "code",
   "execution_count": 14,
   "metadata": {},
   "outputs": [],
   "source": [
    "#numero total de simbolos de digitos del texto ENGLISH\n",
    "simbolos_totales = 0\n",
    "for i in range(len(data_english)):\n",
    "    for j in range(len(data_english[i])):\n",
    "        simbolos_totales += 1\n"
   ]
  },
  {
   "cell_type": "code",
   "execution_count": 15,
   "metadata": {},
   "outputs": [],
   "source": [
    "#funcion para retornar la probabilidad de aparicion del digito en el texto ENGLISH\n",
    "def probabilidad(simbolo,simbolo_totales):\n",
    "    contador = 0\n",
    "    for i in range(len(data_english)):\n",
    "        contador = contador + data_english[i].count(simbolo)\n",
    "    return contador/simbolo_totales"
   ]
  },
  {
   "cell_type": "code",
   "execution_count": 16,
   "metadata": {},
   "outputs": [
    {
     "name": "stdout",
     "output_type": "stream",
     "text": [
      "[0.02089, 0.003813, 0.042654, 0.050504, 0.047405, 0.161094, 0.097082, 0.070068, 0.000938, 0.014139, 0.05696, 0.013422, 0.046167, 0.061488, 0.030218, 0.019684, 0.017749, 0.009433, 0.012795, 0.001219, 0.017921, 0.030897, 0.001449, 0.011128, 0.05071, 0.00103, 0.002918, 0.006406, 0.000202, 0.002274, 5.3e-05, 0.001434, 0.000349, 0.002407, 0.001266, 0.0001, 0.000149, 0.00054, 0.007968, 0.000904, 0.000316, 0.000316, 0.016471, 0.011918, 0.00259, 0.013795, 0.009334, 0.004132, 0.001957, 0.000167, 0.000255, 0.000251, 0.001272, 0.000794, 3e-06, 0.000173, 0.000142, 0.0001, 0.000167, 0.001287, 0.001414, 0.00131, 0.001913, 0.000874, 0.000386, 5.3e-05, 0.002524, 0.000311, 0.000573, 0.000304, 6.8e-05, 0.000124, 0.000633, 0.000305, 0.000131, 0.000936, 0.000486, 0.000691, 0.000227, 0.000522, 3.5e-05, 0.000349, 9.3e-05, 0.00115, 1.6e-05, 3e-06, 0.000128, 5e-06, 2e-06, 1e-06, 0.000429, 6e-06, 2e-06, 3e-06, 2e-06, 0.000394, 2e-06, 2.5e-05, 1e-06, 2e-06, 2e-06, 1e-06, 1e-06, 2e-06, 0.000286, 8e-06]\n"
     ]
    }
   ],
   "source": [
    "# se crea un arreglo con los digitos y sus probabilidades del texto ENGLISH\n",
    "probs_en = []\n",
    "for i in range(len(alfabeto_english)):\n",
    "    probs_en += [probabilidad(alfabeto_english[i],simbolos_totales)]\n",
    "print(probs_en)"
   ]
  },
  {
   "cell_type": "code",
   "execution_count": 17,
   "metadata": {},
   "outputs": [],
   "source": [
    "df_en= pd.DataFrame({'Simbolo': alfabeto_english,'Probabilidad': probs_en})"
   ]
  },
  {
   "cell_type": "code",
   "execution_count": 18,
   "metadata": {},
   "outputs": [
    {
     "data": {
      "text/html": [
       "<div>\n",
       "<style scoped>\n",
       "    .dataframe tbody tr th:only-of-type {\n",
       "        vertical-align: middle;\n",
       "    }\n",
       "\n",
       "    .dataframe tbody tr th {\n",
       "        vertical-align: top;\n",
       "    }\n",
       "\n",
       "    .dataframe thead th {\n",
       "        text-align: right;\n",
       "    }\n",
       "</style>\n",
       "<table border=\"1\" class=\"dataframe\">\n",
       "  <thead>\n",
       "    <tr style=\"text-align: right;\">\n",
       "      <th></th>\n",
       "      <th>Simbolo</th>\n",
       "      <th>Probabilidad</th>\n",
       "    </tr>\n",
       "  </thead>\n",
       "  <tbody>\n",
       "    <tr>\n",
       "      <th>0</th>\n",
       "      <td>\\n</td>\n",
       "      <td>0.020890</td>\n",
       "    </tr>\n",
       "    <tr>\n",
       "      <th>1</th>\n",
       "      <td>T</td>\n",
       "      <td>0.003813</td>\n",
       "    </tr>\n",
       "    <tr>\n",
       "      <th>2</th>\n",
       "      <td>h</td>\n",
       "      <td>0.042654</td>\n",
       "    </tr>\n",
       "    <tr>\n",
       "      <th>3</th>\n",
       "      <td>i</td>\n",
       "      <td>0.050504</td>\n",
       "    </tr>\n",
       "    <tr>\n",
       "      <th>4</th>\n",
       "      <td>s</td>\n",
       "      <td>0.047405</td>\n",
       "    </tr>\n",
       "    <tr>\n",
       "      <th>...</th>\n",
       "      <td>...</td>\n",
       "      <td>...</td>\n",
       "    </tr>\n",
       "    <tr>\n",
       "      <th>101</th>\n",
       "      <td>$</td>\n",
       "      <td>0.000001</td>\n",
       "    </tr>\n",
       "    <tr>\n",
       "      <th>102</th>\n",
       "      <td>É</td>\n",
       "      <td>0.000001</td>\n",
       "    </tr>\n",
       "    <tr>\n",
       "      <th>103</th>\n",
       "      <td>&gt;</td>\n",
       "      <td>0.000002</td>\n",
       "    </tr>\n",
       "    <tr>\n",
       "      <th>104</th>\n",
       "      <td>\\t</td>\n",
       "      <td>0.000286</td>\n",
       "    </tr>\n",
       "    <tr>\n",
       "      <th>105</th>\n",
       "      <td>ö</td>\n",
       "      <td>0.000008</td>\n",
       "    </tr>\n",
       "  </tbody>\n",
       "</table>\n",
       "<p>106 rows × 2 columns</p>\n",
       "</div>"
      ],
      "text/plain": [
       "    Simbolo  Probabilidad\n",
       "0        \\n      0.020890\n",
       "1         T      0.003813\n",
       "2         h      0.042654\n",
       "3         i      0.050504\n",
       "4         s      0.047405\n",
       "..      ...           ...\n",
       "101       $      0.000001\n",
       "102       É      0.000001\n",
       "103       >      0.000002\n",
       "104      \\t      0.000286\n",
       "105       ö      0.000008\n",
       "\n",
       "[106 rows x 2 columns]"
      ]
     },
     "execution_count": 18,
     "metadata": {},
     "output_type": "execute_result"
    }
   ],
   "source": [
    "df_en"
   ]
  },
  {
   "cell_type": "markdown",
   "metadata": {},
   "source": [
    "# 4. Validacion de las probabilidades"
   ]
  },
  {
   "cell_type": "markdown",
   "metadata": {},
   "source": [
    "# Para dna"
   ]
  },
  {
   "cell_type": "code",
   "execution_count": 19,
   "metadata": {},
   "outputs": [
    {
     "data": {
      "text/plain": [
       "0.9999999999999999"
      ]
     },
     "execution_count": 19,
     "metadata": {},
     "output_type": "execute_result"
    }
   ],
   "source": [
    "df_dna['Probabilidad'].sum()"
   ]
  },
  {
   "cell_type": "markdown",
   "metadata": {},
   "source": [
    "Como la probabilidad para dna es cercana a 1 las probabilidades son validas"
   ]
  },
  {
   "cell_type": "markdown",
   "metadata": {},
   "source": [
    "# Para en"
   ]
  },
  {
   "cell_type": "code",
   "execution_count": 20,
   "metadata": {},
   "outputs": [
    {
     "data": {
      "text/plain": [
       "1.0"
      ]
     },
     "execution_count": 20,
     "metadata": {},
     "output_type": "execute_result"
    }
   ],
   "source": [
    "df_en['Probabilidad'].sum()"
   ]
  },
  {
   "cell_type": "markdown",
   "metadata": {},
   "source": [
    "Como la sum de las probabilidades es 1 es valida"
   ]
  },
  {
   "cell_type": "markdown",
   "metadata": {},
   "source": [
    "# 5. Ordenamiento de las probabilidades (Descendente)"
   ]
  },
  {
   "cell_type": "code",
   "execution_count": 21,
   "metadata": {},
   "outputs": [
    {
     "data": {
      "text/html": [
       "<div>\n",
       "<style scoped>\n",
       "    .dataframe tbody tr th:only-of-type {\n",
       "        vertical-align: middle;\n",
       "    }\n",
       "\n",
       "    .dataframe tbody tr th {\n",
       "        vertical-align: top;\n",
       "    }\n",
       "\n",
       "    .dataframe thead th {\n",
       "        text-align: right;\n",
       "    }\n",
       "</style>\n",
       "<table border=\"1\" class=\"dataframe\">\n",
       "  <thead>\n",
       "    <tr style=\"text-align: right;\">\n",
       "      <th></th>\n",
       "      <th>Simbolo</th>\n",
       "      <th>Probabilidad</th>\n",
       "    </tr>\n",
       "  </thead>\n",
       "  <tbody>\n",
       "    <tr>\n",
       "      <th>2</th>\n",
       "      <td>T</td>\n",
       "      <td>0.270851</td>\n",
       "    </tr>\n",
       "    <tr>\n",
       "      <th>1</th>\n",
       "      <td>A</td>\n",
       "      <td>0.257934</td>\n",
       "    </tr>\n",
       "    <tr>\n",
       "      <th>0</th>\n",
       "      <td>G</td>\n",
       "      <td>0.236779</td>\n",
       "    </tr>\n",
       "    <tr>\n",
       "      <th>3</th>\n",
       "      <td>C</td>\n",
       "      <td>0.234429</td>\n",
       "    </tr>\n",
       "    <tr>\n",
       "      <th>4</th>\n",
       "      <td>\\n</td>\n",
       "      <td>0.000006</td>\n",
       "    </tr>\n",
       "    <tr>\n",
       "      <th>5</th>\n",
       "      <td>N</td>\n",
       "      <td>0.000001</td>\n",
       "    </tr>\n",
       "  </tbody>\n",
       "</table>\n",
       "</div>"
      ],
      "text/plain": [
       "  Simbolo  Probabilidad\n",
       "2       T      0.270851\n",
       "1       A      0.257934\n",
       "0       G      0.236779\n",
       "3       C      0.234429\n",
       "4      \\n      0.000006\n",
       "5       N      0.000001"
      ]
     },
     "execution_count": 21,
     "metadata": {},
     "output_type": "execute_result"
    }
   ],
   "source": [
    "#para dna\n",
    "df_dna.sort_values(by=['Probabilidad'], ascending = False, inplace = True)\n",
    "df_dna"
   ]
  },
  {
   "cell_type": "code",
   "execution_count": 22,
   "metadata": {},
   "outputs": [
    {
     "data": {
      "text/html": [
       "<div>\n",
       "<style scoped>\n",
       "    .dataframe tbody tr th:only-of-type {\n",
       "        vertical-align: middle;\n",
       "    }\n",
       "\n",
       "    .dataframe tbody tr th {\n",
       "        vertical-align: top;\n",
       "    }\n",
       "\n",
       "    .dataframe thead th {\n",
       "        text-align: right;\n",
       "    }\n",
       "</style>\n",
       "<table border=\"1\" class=\"dataframe\">\n",
       "  <thead>\n",
       "    <tr style=\"text-align: right;\">\n",
       "      <th></th>\n",
       "      <th>Simbolo</th>\n",
       "      <th>Probabilidad</th>\n",
       "    </tr>\n",
       "  </thead>\n",
       "  <tbody>\n",
       "    <tr>\n",
       "      <th>5</th>\n",
       "      <td></td>\n",
       "      <td>0.161094</td>\n",
       "    </tr>\n",
       "    <tr>\n",
       "      <th>6</th>\n",
       "      <td>e</td>\n",
       "      <td>0.097082</td>\n",
       "    </tr>\n",
       "    <tr>\n",
       "      <th>7</th>\n",
       "      <td>t</td>\n",
       "      <td>0.070068</td>\n",
       "    </tr>\n",
       "    <tr>\n",
       "      <th>13</th>\n",
       "      <td>o</td>\n",
       "      <td>0.061488</td>\n",
       "    </tr>\n",
       "    <tr>\n",
       "      <th>10</th>\n",
       "      <td>a</td>\n",
       "      <td>0.056960</td>\n",
       "    </tr>\n",
       "    <tr>\n",
       "      <th>...</th>\n",
       "      <td>...</td>\n",
       "      <td>...</td>\n",
       "    </tr>\n",
       "    <tr>\n",
       "      <th>88</th>\n",
       "      <td>ü</td>\n",
       "      <td>0.000002</td>\n",
       "    </tr>\n",
       "    <tr>\n",
       "      <th>89</th>\n",
       "      <td>ç</td>\n",
       "      <td>0.000001</td>\n",
       "    </tr>\n",
       "    <tr>\n",
       "      <th>98</th>\n",
       "      <td>ô</td>\n",
       "      <td>0.000001</td>\n",
       "    </tr>\n",
       "    <tr>\n",
       "      <th>101</th>\n",
       "      <td>$</td>\n",
       "      <td>0.000001</td>\n",
       "    </tr>\n",
       "    <tr>\n",
       "      <th>102</th>\n",
       "      <td>É</td>\n",
       "      <td>0.000001</td>\n",
       "    </tr>\n",
       "  </tbody>\n",
       "</table>\n",
       "<p>106 rows × 2 columns</p>\n",
       "</div>"
      ],
      "text/plain": [
       "    Simbolo  Probabilidad\n",
       "5                0.161094\n",
       "6         e      0.097082\n",
       "7         t      0.070068\n",
       "13        o      0.061488\n",
       "10        a      0.056960\n",
       "..      ...           ...\n",
       "88        ü      0.000002\n",
       "89        ç      0.000001\n",
       "98        ô      0.000001\n",
       "101       $      0.000001\n",
       "102       É      0.000001\n",
       "\n",
       "[106 rows x 2 columns]"
      ]
     },
     "execution_count": 22,
     "metadata": {},
     "output_type": "execute_result"
    }
   ],
   "source": [
    "#para English\n",
    "df_en.sort_values(by=['Probabilidad'], ascending = False, inplace = True)\n",
    "df_en"
   ]
  },
  {
   "cell_type": "markdown",
   "metadata": {},
   "source": [
    "# 6. Implementacion Algoritmo Shannon"
   ]
  },
  {
   "cell_type": "markdown",
   "metadata": {},
   "source": [
    "# 7. Implementacion Algoritmo Huffman Canonico"
   ]
  },
  {
   "cell_type": "markdown",
   "metadata": {},
   "source": [
    "# 8. Implementacion Algoritmo Decodificacion Shannon"
   ]
  },
  {
   "cell_type": "markdown",
   "metadata": {},
   "source": [
    "# 9. Implementacion Algoritmo Decodificacion Huffman Canonico"
   ]
  },
  {
   "cell_type": "code",
   "execution_count": null,
   "metadata": {},
   "outputs": [],
   "source": []
  }
 ],
 "metadata": {
  "kernelspec": {
   "display_name": "Python 3",
   "language": "python",
   "name": "python3"
  },
  "language_info": {
   "codemirror_mode": {
    "name": "ipython",
    "version": 3
   },
   "file_extension": ".py",
   "mimetype": "text/x-python",
   "name": "python",
   "nbconvert_exporter": "python",
   "pygments_lexer": "ipython3",
   "version": "3.8.3"
  }
 },
 "nbformat": 4,
 "nbformat_minor": 4
}
