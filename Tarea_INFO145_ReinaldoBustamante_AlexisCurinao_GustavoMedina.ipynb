{
 "cells": [
  {
   "cell_type": "markdown",
   "metadata": {},
   "source": [
    "<h1><center>Tarea 1: Esquemas de Decodificacion Instantanea - INFO145</center></h1>\n"
   ]
  },
  {
   "cell_type": "markdown",
   "metadata": {},
   "source": [
    "# 1. Importacion de T[1..N] y Librerias"
   ]
  },
  {
   "cell_type": "code",
   "execution_count": 176,
   "metadata": {},
   "outputs": [],
   "source": [
    "#importacion libreria\n",
    "\n",
    "%matplotlib notebook\n",
    "import matplotlib.pyplot as plt\n",
    "import numpy as np\n",
    "import pandas as pd\n",
    "\n"
   ]
  },
  {
   "cell_type": "code",
   "execution_count": 199,
   "metadata": {},
   "outputs": [],
   "source": [
    "def importarTexto(x):\n",
    "    file = open(x,'r')\n",
    "    data=file.readlines() \n",
    "    file.close() \n",
    "    return data\n",
    "data_english = importarTexto('english.1MB')\n",
    "data_dna = importarTexto('dna.1MB')"
   ]
  },
  {
   "cell_type": "markdown",
   "metadata": {},
   "source": [
    "# 2. Obtencion del alfabeto del texto"
   ]
  },
  {
   "cell_type": "code",
   "execution_count": 200,
   "metadata": {},
   "outputs": [],
   "source": [
    "def no_esta(array,b):\n",
    "    verificador = True\n",
    "    for i in range(len(array)):\n",
    "        if array[i] == b :\n",
    "            verificador = False\n",
    "    return verificador"
   ]
  },
  {
   "cell_type": "code",
   "execution_count": 201,
   "metadata": {},
   "outputs": [],
   "source": [
    "def alfabeto(x):\n",
    "    alfabeto = [x[0][0]]\n",
    "    for i in range(len(x)):\n",
    "        for j in range(len(x[i])):\n",
    "            if no_esta(alfabeto,x[i][j]):\n",
    "                alfabeto +=  x[i][j]\n",
    "\n",
    "    return alfabeto\n"
   ]
  },
  {
   "cell_type": "code",
   "execution_count": 202,
   "metadata": {},
   "outputs": [],
   "source": [
    "alfabeto_dna = alfabeto(data_dna)\n",
    "alfabeto_english = alfabeto(data_english)"
   ]
  },
  {
   "cell_type": "markdown",
   "metadata": {},
   "source": [
    "# 3. Implementacion Algoritmo Shannon"
   ]
  },
  {
   "cell_type": "markdown",
   "metadata": {},
   "source": [
    "Los pasos para desarrollar este algoritmo son los siguientes: \n",
    "* **(1) Para una secuencia de símbolos, se calcula la correspondiente lista de frecuencias de aparición de los símbolos**\n",
    "* **(2) Se ordena la lista de símbolos según su frecuencia en orden decreciente**\n",
    "* **(3) Se divide la lista en dos partes, de forma que la suma total de frecuencias de las 2 mitades sean lo más cercana posible**\n",
    "* **(4)  A la mitad superior de la lista se le asigna el dígito binario 1, y a la mitad inferior se le asigna el dígito binario 0. Esto significa que los códigos de los símbolos en la primera mitad empezarán todos con 1 y los códigos en la segunda mitad empezarán todos con 0**\n",
    "* **(5) Recursivamente se aplica el mismo procedimiento a cada una de las dos mitades, se subdivide en grupos y se agregan bits a las códigos hasta que cada grupo conste de un único símbolo**"
   ]
  },
  {
   "cell_type": "code",
   "execution_count": 240,
   "metadata": {},
   "outputs": [],
   "source": [
    "def probabilidad(simbolo,simbolo_totales,sec): # funcion para calcular probabilidades\n",
    "    contador = 0\n",
    "    for i in range(len(sec)):\n",
    "        contador = contador + sec[i].count(simbolo)\n",
    "    return contador/simbolo_totales\n",
    "def get_indice(x): # obtiene el indice donde se va a dividir la lista\n",
    "    c= 0\n",
    "    q= len(x)-1\n",
    "    a = x.Probabilidad[c]\n",
    "    b = x.Probabilidad[q]\n",
    "    while (c+1) != q and c!=q:\n",
    "        if b<=a:\n",
    "            b += x.Probabilidad[(q-1)]\n",
    "            q -= 1\n",
    "        if a<b :\n",
    "            a += x.Probabilidad[(c+1)]\n",
    "            c+= 1\n",
    "    if c== q :\n",
    "        c -= 1\n",
    "    return c,q \n",
    "def div_list(x): # divide las lista en 2 \n",
    "        fin_lista_1 = get_indice(x)[0]\n",
    "        comienzo_lista_2 = get_indice(x)[1]\n",
    "        div_1 = x[0:fin_lista_1+1]\n",
    "        div_2 = x[comienzo_lista_2:]\n",
    "        return div_1, div_2\n",
    "def code(x):\n",
    "    if len(x)>=2:\n",
    "        table_1 = div_list(x)[0] #obtiene la lista de la mitad superior\n",
    "        table_2 = div_list(x)[1] #obtiene la lista de la mitad inferior\n",
    "        table_1.Code += '1'\n",
    "        code(table_1)  # recursivamente codifica la lista de la mitad superior\n",
    "        table_2.Code +='0'\n",
    "        code(table_2)  # recursivamente codifica la lista de la mitad superior\n",
    "        return x\n",
    "\n",
    "def shannon(x, sec): # x corresponde al alfabeto , sec a secuencia\n",
    "#........................................................................................................................\n",
    "#......................Primero se calculara la frecuencia de los simbolos del alfabeto....................................\n",
    "#.........................................................................................................................\n",
    "    simbolos_totales = 0 #numero total de simbolos del\n",
    "    for i in range(len(sec)):\n",
    "        for j in range(len(sec[i])):\n",
    "            simbolos_totales += 1\n",
    "    probs = [] # se crea un arreglo con  sus probabilidades \n",
    "    for i in range(len(x)):\n",
    "        probs += [probabilidad(x[i],simbolos_totales,sec)]\n",
    "#..........................................................................................................................\n",
    "#......................Se Creara un dataframe con los simbolos y sus probabilidades........................................\n",
    "#..........................................................................................................................\n",
    "    df = pd.DataFrame({'Simbolo': x,'Probabilidad': probs, 'Code': ''})\n",
    "    df.index = df['Simbolo']\n",
    "    df.drop(['Simbolo'], axis= 1 , inplace= True)\n",
    "#...........................................................................................................................\n",
    "#.............................Ordenamiento de las probabilidades(Descendente)...............................................\n",
    "#...........................................................................................................................\n",
    "    df.sort_values(by=['Probabilidad'], ascending = False, inplace = True)\n",
    "#............................................................................................................................\n",
    "#..........................................Obtencion del alfabeto de codificacion............................................\n",
    "#............................................................................................................................\n",
    "    code(df)\n",
    "    return df\n",
    "#............................................................................................................................\n",
    "#...............................................Codificacion.................................................................\n",
    "#............................................................................................................................"
   ]
  },
  {
   "cell_type": "code",
   "execution_count": 242,
   "metadata": {},
   "outputs": [
    {
     "name": "stderr",
     "output_type": "stream",
     "text": [
      "C:\\Users\\Spun\\miniconda3\\envs\\jupyter\\lib\\site-packages\\pandas\\core\\generic.py:5303: SettingWithCopyWarning: \n",
      "A value is trying to be set on a copy of a slice from a DataFrame.\n",
      "Try using .loc[row_indexer,col_indexer] = value instead\n",
      "\n",
      "See the caveats in the documentation: https://pandas.pydata.org/pandas-docs/stable/user_guide/indexing.html#returning-a-view-versus-a-copy\n",
      "  self[name] = value\n"
     ]
    },
    {
     "data": {
      "text/html": [
       "<div>\n",
       "<style scoped>\n",
       "    .dataframe tbody tr th:only-of-type {\n",
       "        vertical-align: middle;\n",
       "    }\n",
       "\n",
       "    .dataframe tbody tr th {\n",
       "        vertical-align: top;\n",
       "    }\n",
       "\n",
       "    .dataframe thead th {\n",
       "        text-align: right;\n",
       "    }\n",
       "</style>\n",
       "<table border=\"1\" class=\"dataframe\">\n",
       "  <thead>\n",
       "    <tr style=\"text-align: right;\">\n",
       "      <th></th>\n",
       "      <th>Probabilidad</th>\n",
       "      <th>Code</th>\n",
       "    </tr>\n",
       "    <tr>\n",
       "      <th>Simbolo</th>\n",
       "      <th></th>\n",
       "      <th></th>\n",
       "    </tr>\n",
       "  </thead>\n",
       "  <tbody>\n",
       "    <tr>\n",
       "      <th></th>\n",
       "      <td>0.161094</td>\n",
       "      <td>111</td>\n",
       "    </tr>\n",
       "    <tr>\n",
       "      <th>e</th>\n",
       "      <td>0.097082</td>\n",
       "      <td>110</td>\n",
       "    </tr>\n",
       "    <tr>\n",
       "      <th>t</th>\n",
       "      <td>0.070068</td>\n",
       "      <td>1011</td>\n",
       "    </tr>\n",
       "    <tr>\n",
       "      <th>o</th>\n",
       "      <td>0.061488</td>\n",
       "      <td>1010</td>\n",
       "    </tr>\n",
       "    <tr>\n",
       "      <th>a</th>\n",
       "      <td>0.056960</td>\n",
       "      <td>1001</td>\n",
       "    </tr>\n",
       "    <tr>\n",
       "      <th>...</th>\n",
       "      <td>...</td>\n",
       "      <td>...</td>\n",
       "    </tr>\n",
       "    <tr>\n",
       "      <th>ü</th>\n",
       "      <td>0.000002</td>\n",
       "      <td>0000000000000000011</td>\n",
       "    </tr>\n",
       "    <tr>\n",
       "      <th>ç</th>\n",
       "      <td>0.000001</td>\n",
       "      <td>0000000000000000010</td>\n",
       "    </tr>\n",
       "    <tr>\n",
       "      <th>ô</th>\n",
       "      <td>0.000001</td>\n",
       "      <td>0000000000000000001</td>\n",
       "    </tr>\n",
       "    <tr>\n",
       "      <th>$</th>\n",
       "      <td>0.000001</td>\n",
       "      <td>00000000000000000001</td>\n",
       "    </tr>\n",
       "    <tr>\n",
       "      <th>É</th>\n",
       "      <td>0.000001</td>\n",
       "      <td>00000000000000000000</td>\n",
       "    </tr>\n",
       "  </tbody>\n",
       "</table>\n",
       "<p>106 rows × 2 columns</p>\n",
       "</div>"
      ],
      "text/plain": [
       "         Probabilidad                  Code\n",
       "Simbolo                                    \n",
       "             0.161094                   111\n",
       "e            0.097082                   110\n",
       "t            0.070068                  1011\n",
       "o            0.061488                  1010\n",
       "a            0.056960                  1001\n",
       "...               ...                   ...\n",
       "ü            0.000002   0000000000000000011\n",
       "ç            0.000001   0000000000000000010\n",
       "ô            0.000001   0000000000000000001\n",
       "$            0.000001  00000000000000000001\n",
       "É            0.000001  00000000000000000000\n",
       "\n",
       "[106 rows x 2 columns]"
      ]
     },
     "execution_count": 242,
     "metadata": {},
     "output_type": "execute_result"
    }
   ],
   "source": [
    "shannon(alfabeto_english,data_english)"
   ]
  },
  {
   "cell_type": "code",
   "execution_count": 219,
   "metadata": {},
   "outputs": [
    {
     "data": {
      "text/html": [
       "<div>\n",
       "<style scoped>\n",
       "    .dataframe tbody tr th:only-of-type {\n",
       "        vertical-align: middle;\n",
       "    }\n",
       "\n",
       "    .dataframe tbody tr th {\n",
       "        vertical-align: top;\n",
       "    }\n",
       "\n",
       "    .dataframe thead th {\n",
       "        text-align: right;\n",
       "    }\n",
       "</style>\n",
       "<table border=\"1\" class=\"dataframe\">\n",
       "  <thead>\n",
       "    <tr style=\"text-align: right;\">\n",
       "      <th></th>\n",
       "      <th>Probabilidad</th>\n",
       "      <th>Code</th>\n",
       "    </tr>\n",
       "    <tr>\n",
       "      <th>Simbolo</th>\n",
       "      <th></th>\n",
       "      <th></th>\n",
       "    </tr>\n",
       "  </thead>\n",
       "  <tbody>\n",
       "    <tr>\n",
       "      <th>G</th>\n",
       "      <td>0.236779</td>\n",
       "      <td></td>\n",
       "    </tr>\n",
       "    <tr>\n",
       "      <th>A</th>\n",
       "      <td>0.257934</td>\n",
       "      <td></td>\n",
       "    </tr>\n",
       "    <tr>\n",
       "      <th>T</th>\n",
       "      <td>0.270851</td>\n",
       "      <td></td>\n",
       "    </tr>\n",
       "    <tr>\n",
       "      <th>C</th>\n",
       "      <td>0.234429</td>\n",
       "      <td></td>\n",
       "    </tr>\n",
       "    <tr>\n",
       "      <th>\\n</th>\n",
       "      <td>0.000006</td>\n",
       "      <td></td>\n",
       "    </tr>\n",
       "    <tr>\n",
       "      <th>N</th>\n",
       "      <td>0.000001</td>\n",
       "      <td></td>\n",
       "    </tr>\n",
       "  </tbody>\n",
       "</table>\n",
       "</div>"
      ],
      "text/plain": [
       "         Probabilidad Code\n",
       "Simbolo                   \n",
       "G            0.236779     \n",
       "A            0.257934     \n",
       "T            0.270851     \n",
       "C            0.234429     \n",
       "\\n           0.000006     \n",
       "N            0.000001     "
      ]
     },
     "execution_count": 219,
     "metadata": {},
     "output_type": "execute_result"
    }
   ],
   "source": [
    "shannon(alfabeto_dna,data_dna)"
   ]
  },
  {
   "cell_type": "markdown",
   "metadata": {},
   "source": [
    "# 4. Implementacion Algoritmo Decodificacion Shannon"
   ]
  },
  {
   "cell_type": "markdown",
   "metadata": {},
   "source": [
    "# 5. Implementacion Algoritmo Huffman Canonico"
   ]
  },
  {
   "cell_type": "markdown",
   "metadata": {},
   "source": [
    "# 6. Implementacion Algoritmo Decodificacion Huffman Canonico"
   ]
  },
  {
   "cell_type": "code",
   "execution_count": null,
   "metadata": {},
   "outputs": [],
   "source": []
  },
  {
   "cell_type": "code",
   "execution_count": null,
   "metadata": {},
   "outputs": [],
   "source": []
  },
  {
   "cell_type": "code",
   "execution_count": null,
   "metadata": {},
   "outputs": [],
   "source": []
  },
  {
   "cell_type": "code",
   "execution_count": null,
   "metadata": {},
   "outputs": [],
   "source": []
  },
  {
   "cell_type": "code",
   "execution_count": null,
   "metadata": {},
   "outputs": [],
   "source": []
  },
  {
   "cell_type": "code",
   "execution_count": null,
   "metadata": {},
   "outputs": [],
   "source": []
  },
  {
   "cell_type": "code",
   "execution_count": null,
   "metadata": {},
   "outputs": [],
   "source": []
  },
  {
   "cell_type": "code",
   "execution_count": null,
   "metadata": {},
   "outputs": [],
   "source": []
  },
  {
   "cell_type": "code",
   "execution_count": null,
   "metadata": {},
   "outputs": [],
   "source": []
  },
  {
   "cell_type": "code",
   "execution_count": null,
   "metadata": {},
   "outputs": [],
   "source": []
  }
 ],
 "metadata": {
  "kernelspec": {
   "display_name": "Python 3",
   "language": "python",
   "name": "python3"
  },
  "language_info": {
   "codemirror_mode": {
    "name": "ipython",
    "version": 3
   },
   "file_extension": ".py",
   "mimetype": "text/x-python",
   "name": "python",
   "nbconvert_exporter": "python",
   "pygments_lexer": "ipython3",
   "version": "3.8.3"
  }
 },
 "nbformat": 4,
 "nbformat_minor": 4
}
