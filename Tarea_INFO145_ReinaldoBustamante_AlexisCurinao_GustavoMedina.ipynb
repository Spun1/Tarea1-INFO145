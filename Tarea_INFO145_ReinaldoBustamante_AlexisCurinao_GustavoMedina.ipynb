{
 "cells": [
  {
   "cell_type": "markdown",
   "metadata": {},
   "source": [
    "<h1><center>Tarea 1: Esquemas de Decodificacion Instantanea - INFO145</center></h1>\n"
   ]
  },
  {
   "cell_type": "markdown",
   "metadata": {},
   "source": [
    "# 1. Importacion de T[1..N] y Librerias"
   ]
  },
  {
   "cell_type": "code",
   "execution_count": 326,
   "metadata": {},
   "outputs": [],
   "source": [
    "#importacion libreria\n",
    "\n",
    "%matplotlib notebook\n",
    "import matplotlib.pyplot as plt\n",
    "import numpy as np\n",
    "import pandas as pd\n",
    "\n"
   ]
  },
  {
   "cell_type": "code",
   "execution_count": 327,
   "metadata": {},
   "outputs": [],
   "source": [
    "def importarTexto(x):\n",
    "    file = open(x,'r')\n",
    "    data=file.readlines() \n",
    "    file.close() \n",
    "    data_str = []\n",
    "    for i in range(len(data)):\n",
    "        for j in range (len(data[i])):\n",
    "            data_str += data[i][j]\n",
    "    return data_str"
   ]
  },
  {
   "cell_type": "code",
   "execution_count": 328,
   "metadata": {},
   "outputs": [],
   "source": [
    "data_prueba = importarTexto('prueba.txt')\n",
    "data_dna = importarTexto('dna.1MB')\n",
    "data_english = importarTexto('english.1MB')"
   ]
  },
  {
   "cell_type": "code",
   "execution_count": null,
   "metadata": {},
   "outputs": [],
   "source": []
  },
  {
   "cell_type": "markdown",
   "metadata": {},
   "source": [
    "# 2. Obtencion del alfabeto del texto"
   ]
  },
  {
   "cell_type": "code",
   "execution_count": 329,
   "metadata": {},
   "outputs": [],
   "source": [
    "def no_esta(array,b):\n",
    "    verificador = True\n",
    "    for i in range(len(array)):\n",
    "        if array[i] == b :\n",
    "            verificador = False\n",
    "    return verificador"
   ]
  },
  {
   "cell_type": "code",
   "execution_count": 330,
   "metadata": {},
   "outputs": [],
   "source": [
    "def alfabeto(x):\n",
    "    alfabeto = []\n",
    "    for i in range(len(x)):\n",
    "        if no_esta(alfabeto,x[i]):\n",
    "            alfabeto +=  x[i]\n",
    "    return alfabeto\n"
   ]
  },
  {
   "cell_type": "code",
   "execution_count": 331,
   "metadata": {},
   "outputs": [],
   "source": [
    "alfabeto_dna = alfabeto(data_dna)\n",
    "alfabeto_english = alfabeto(data_english)\n",
    "alfabeto_prueba = alfabeto(data_prueba)"
   ]
  },
  {
   "cell_type": "code",
   "execution_count": null,
   "metadata": {},
   "outputs": [],
   "source": []
  },
  {
   "cell_type": "markdown",
   "metadata": {},
   "source": [
    "# 3. Implementacion Algoritmo Shannon"
   ]
  },
  {
   "cell_type": "markdown",
   "metadata": {},
   "source": [
    "Los pasos para desarrollar este algoritmo son los siguientes: \n",
    "* **(1) Para una secuencia de símbolos, se calcula la correspondiente lista de frecuencias de aparición de los símbolos**\n",
    "* **(2) Se ordena la lista de símbolos según su frecuencia en orden decreciente**\n",
    "* **(3) Se divide la lista en dos partes, de forma que la suma total de frecuencias de las 2 mitades sean lo más cercana posible**\n",
    "* **(4)  A la mitad superior de la lista se le asigna el dígito binario 1, y a la mitad inferior se le asigna el dígito binario 0. Esto significa que los códigos de los símbolos en la primera mitad empezarán todos con 1 y los códigos en la segunda mitad empezarán todos con 0**\n",
    "* **(5) Recursivamente se aplica el mismo procedimiento a cada una de las dos mitades, se subdivide en grupos y se agregan bits a las códigos hasta que cada grupo conste de un único símbolo**"
   ]
  },
  {
   "cell_type": "code",
   "execution_count": 351,
   "metadata": {},
   "outputs": [],
   "source": [
    "def probabilidad(simbolo,simbolo_totales,sec): # funcion para calcular probabilidades\n",
    "    contador = 0\n",
    "    contador = contador + sec.count(simbolo)\n",
    "    return contador/simbolo_totales\n",
    "def get_indice(x): # obtiene el indice donde se va a dividir la lista\n",
    "    c= 0\n",
    "    q= len(x)-1\n",
    "    a = x.Probabilidad[c]\n",
    "    b = x.Probabilidad[q]\n",
    "    while (c+1) != q and c!=q:\n",
    "        if b<=a:\n",
    "            b += x.Probabilidad[(q-1)]\n",
    "            q -= 1\n",
    "        if a<b :\n",
    "            a += x.Probabilidad[(c+1)]\n",
    "            c+= 1\n",
    "    if c== q :\n",
    "        c -= 1\n",
    "    return c,q \n",
    "def div_list(x): # divide las lista en 2 \n",
    "        fin_lista_1 = get_indice(x)[0]\n",
    "        comienzo_lista_2 = get_indice(x)[1]\n",
    "        div_1 = x[0:fin_lista_1+1]\n",
    "        div_2 = x[comienzo_lista_2:]\n",
    "        return div_1, div_2\n",
    "def code(x):\n",
    "    if len(x)>=2:\n",
    "        table_1 = div_list(x)[0] #obtiene la lista de la mitad superior\n",
    "        table_2 = div_list(x)[1] #obtiene la lista de la mitad inferior\n",
    "        table_1.Code += '1'\n",
    "        code(table_1)  # recursivamente codifica la lista de la mitad superior\n",
    "        table_2.Code +='0'\n",
    "        code(table_2)  # recursivamente codifica la lista de la mitad superior\n",
    "        return x\n",
    "\n",
    "def shannon(x, sec): # x corresponde al alfabeto , sec a secuencia\n",
    "#........................................................................................................................\n",
    "#......................Primero se calculara la frecuencia de los simbolos del alfabeto....................................\n",
    "#.........................................................................................................................\n",
    "    simbolos_totales = len(sec) #numero total de simbolos de la secuencia\n",
    "    probs = [] # se crea un arreglo con  sus probabilidades \n",
    "    for i in range(len(x)):\n",
    "        probs += [probabilidad(x[i],simbolos_totales,sec)]\n",
    "#..........................................................................................................................\n",
    "#......................Se Creara un dataframe con los simbolos y sus probabilidades........................................\n",
    "#..........................................................................................................................\n",
    "    df = pd.DataFrame({'Simbolo': x,'Probabilidad': probs, 'Code': ''})\n",
    "    df.index = df['Simbolo']\n",
    "    df.drop(['Simbolo'], axis= 1 , inplace= True)\n",
    "#...........................................................................................................................\n",
    "#.............................Ordenamiento de las probabilidades(Descendente)...............................................\n",
    "#...........................................................................................................................\n",
    "    df.sort_values(by=['Probabilidad'], ascending = False, inplace = True)\n",
    "#............................................................................................................................\n",
    "#..........................................Obtencion del alfabeto de codificacion............................................\n",
    "#............................................................................................................................\n",
    "    df = code(df)\n",
    "    return df\n",
    "#............................................................................................................................\n",
    "#...............................................Codificacion.................................................................\n",
    "#............................................................................................................................\n",
    "def codificacionShannon(x,sec,largo):# x corresponde al alfabeto , sec a secuencia, largo = tramo de la secuencia a codificar\n",
    "    df = shannon(x,sec)\n",
    "    codificacion = ''\n",
    "    for i in range(largo): # largo tiene que se >0\n",
    "        codificacion += df[df.index == sec[i]].Code[0]\n",
    "    return codificacion\n",
    "    \n",
    "        "
   ]
  },
  {
   "cell_type": "code",
   "execution_count": 389,
   "metadata": {},
   "outputs": [
    {
     "data": {
      "text/plain": [
       "'0011100111001110011100111000011000101011101101111110101111000000011111011111001001100101101111001000001100101001000001101001011110010001110001010001111110000010011010011000011001001010011110000011101010010010010111010101110110001100001110011100111'"
      ]
     },
     "execution_count": 389,
     "metadata": {},
     "output_type": "execute_result"
    }
   ],
   "source": [
    "codificacionShannon(alfabeto_english,data_english,50) # codificacion "
   ]
  },
  {
   "cell_type": "code",
   "execution_count": null,
   "metadata": {},
   "outputs": [],
   "source": []
  },
  {
   "cell_type": "markdown",
   "metadata": {},
   "source": [
    "# 4. Implementacion Algoritmo Decodificacion Shannon"
   ]
  },
  {
   "cell_type": "markdown",
   "metadata": {},
   "source": [
    "# 5. Implementacion Algoritmo Huffman Canonico"
   ]
  },
  {
   "cell_type": "markdown",
   "metadata": {},
   "source": [
    "# 6. Implementacion Algoritmo Decodificacion Huffman Canonico"
   ]
  },
  {
   "cell_type": "code",
   "execution_count": null,
   "metadata": {},
   "outputs": [],
   "source": []
  },
  {
   "cell_type": "code",
   "execution_count": null,
   "metadata": {},
   "outputs": [],
   "source": []
  },
  {
   "cell_type": "code",
   "execution_count": null,
   "metadata": {},
   "outputs": [],
   "source": []
  },
  {
   "cell_type": "code",
   "execution_count": null,
   "metadata": {},
   "outputs": [],
   "source": []
  },
  {
   "cell_type": "code",
   "execution_count": null,
   "metadata": {},
   "outputs": [],
   "source": []
  },
  {
   "cell_type": "code",
   "execution_count": null,
   "metadata": {},
   "outputs": [],
   "source": []
  },
  {
   "cell_type": "code",
   "execution_count": null,
   "metadata": {},
   "outputs": [],
   "source": []
  },
  {
   "cell_type": "code",
   "execution_count": null,
   "metadata": {},
   "outputs": [],
   "source": []
  },
  {
   "cell_type": "code",
   "execution_count": null,
   "metadata": {},
   "outputs": [],
   "source": []
  },
  {
   "cell_type": "code",
   "execution_count": null,
   "metadata": {},
   "outputs": [],
   "source": []
  }
 ],
 "metadata": {
  "kernelspec": {
   "display_name": "Python 3",
   "language": "python",
   "name": "python3"
  },
  "language_info": {
   "codemirror_mode": {
    "name": "ipython",
    "version": 3
   },
   "file_extension": ".py",
   "mimetype": "text/x-python",
   "name": "python",
   "nbconvert_exporter": "python",
   "pygments_lexer": "ipython3",
   "version": "3.8.3"
  }
 },
 "nbformat": 4,
 "nbformat_minor": 4
}
