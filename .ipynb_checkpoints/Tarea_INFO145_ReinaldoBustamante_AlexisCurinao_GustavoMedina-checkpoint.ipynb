{
 "cells": [
  {
   "cell_type": "markdown",
   "metadata": {},
   "source": [
    "<h1><center>Tarea 1: Esquemas de Decodificacion Instantanea - INFO145</center></h1>\n"
   ]
  },
  {
   "cell_type": "markdown",
   "metadata": {},
   "source": [
    "# 1. Importacion de T[1..N] y Librerias"
   ]
  },
  {
   "cell_type": "code",
   "execution_count": 293,
   "metadata": {},
   "outputs": [],
   "source": [
    "#importacion libreria\n",
    "\n",
    "%matplotlib notebook\n",
    "import matplotlib.pyplot as plt\n",
    "import random\n",
    "import pandas as pd\n",
    "import time\n"
   ]
  },
  {
   "cell_type": "code",
   "execution_count": 184,
   "metadata": {},
   "outputs": [],
   "source": [
    "def importarTexto(x):\n",
    "    file = open(x,'r',encoding='cp1252')\n",
    "    data=file.readlines() \n",
    "    file.close() \n",
    "    data_str = \"\"\n",
    "    for i in range(len(data)):\n",
    "        for j in range (len(data[i])):\n",
    "            data_str += data[i][j]\n",
    "    return data_str"
   ]
  },
  {
   "cell_type": "code",
   "execution_count": 185,
   "metadata": {},
   "outputs": [],
   "source": [
    "data_prueba = importarTexto('prueba.txt')\n",
    "data_dna = importarTexto('dna.1MB')\n",
    "data_english = importarTexto('english.1MB')"
   ]
  },
  {
   "cell_type": "code",
   "execution_count": null,
   "metadata": {},
   "outputs": [],
   "source": []
  },
  {
   "cell_type": "markdown",
   "metadata": {},
   "source": [
    "# 2. Obtencion del alfabeto del texto"
   ]
  },
  {
   "cell_type": "code",
   "execution_count": 186,
   "metadata": {},
   "outputs": [],
   "source": [
    "def no_esta(array,b):\n",
    "    verificador = True\n",
    "    for i in range(len(array)):\n",
    "        if array[i] == b :\n",
    "            verificador = False\n",
    "    return verificador"
   ]
  },
  {
   "cell_type": "code",
   "execution_count": 187,
   "metadata": {},
   "outputs": [],
   "source": [
    "def alfabeto(x):\n",
    "    alfabeto = []\n",
    "    for i in range(len(x)):\n",
    "        if no_esta(alfabeto,x[i]):\n",
    "            alfabeto +=  x[i]\n",
    "    return alfabeto\n"
   ]
  },
  {
   "cell_type": "code",
   "execution_count": 188,
   "metadata": {},
   "outputs": [],
   "source": [
    "alfabeto_dna = alfabeto(data_dna)\n",
    "alfabeto_english = alfabeto(data_english)\n",
    "alfabeto_prueba = alfabeto(data_prueba)"
   ]
  },
  {
   "cell_type": "markdown",
   "metadata": {},
   "source": [
    "# 3. Implementacion Algoritmo Shannon"
   ]
  },
  {
   "cell_type": "markdown",
   "metadata": {},
   "source": [
    "Los pasos para desarrollar este algoritmo son los siguientes: \n",
    "* **(1) Para una secuencia de símbolos, se calcula la correspondiente lista de frecuencias de aparición de los símbolos**\n",
    "* **(2) Se ordena la lista de símbolos según su frecuencia en orden decreciente**\n",
    "* **(3) Se divide la lista en dos partes, de forma que la suma total de frecuencias de las 2 mitades sean lo más cercana posible**\n",
    "* **(4)  A la mitad superior de la lista se le asigna el dígito binario 1, y a la mitad inferior se le asigna el dígito binario 0. Esto significa que los códigos de los símbolos en la primera mitad empezarán todos con 1 y los códigos en la segunda mitad empezarán todos con 0**\n",
    "* **(5) Recursivamente se aplica el mismo procedimiento a cada una de las dos mitades, se subdivide en grupos y se agregan bits a las códigos hasta que cada grupo conste de un único símbolo**"
   ]
  },
  {
   "cell_type": "code",
   "execution_count": 189,
   "metadata": {},
   "outputs": [],
   "source": [
    "def probabilidad(simbolo,simbolo_totales,sec): # funcion para calcular probabilidades\n",
    "    contador = 0\n",
    "    contador = contador + sec.count(simbolo)\n",
    "    return contador/simbolo_totales\n",
    "def get_indice(x): # obtiene el indice donde se va a dividir la lista\n",
    "    c= 0\n",
    "    q= len(x)-1\n",
    "    a = x.Probabilidad[c]\n",
    "    b = x.Probabilidad[q]\n",
    "    while (c+1) != q and c!=q:\n",
    "        if b<=a:\n",
    "            b += x.Probabilidad[(q-1)]\n",
    "            q -= 1\n",
    "        if a<b :\n",
    "            a += x.Probabilidad[(c+1)]\n",
    "            c+= 1\n",
    "    if c== q :\n",
    "        c -= 1\n",
    "    return c,q \n",
    "def div_list(x): # divide las lista en 2 \n",
    "        fin_lista_1 = get_indice(x)[0]\n",
    "        comienzo_lista_2 = get_indice(x)[1]\n",
    "        div_1 = x[0:fin_lista_1+1]\n",
    "        div_2 = x[comienzo_lista_2:]\n",
    "        return div_1, div_2\n",
    "def code(x):\n",
    "    if len(x)>=2:\n",
    "        table_1 = div_list(x)[0] #obtiene la lista de la mitad superior\n",
    "        table_2 = div_list(x)[1] #obtiene la lista de la mitad inferior\n",
    "        table_1.Code += '1'\n",
    "        code(table_1)  # recursivamente codifica la lista de la mitad superior\n",
    "        table_2.Code +='0'\n",
    "        code(table_2)  # recursivamente codifica la lista de la mitad superior\n",
    "        return x\n",
    "\n",
    "def shannon(x, sec): # x corresponde al alfabeto , sec a secuencia\n",
    "#........................................................................................................................\n",
    "#......................Primero se calculara la frecuencia de los simbolos del alfabeto....................................\n",
    "#.........................................................................................................................\n",
    "    simbolos_totales = len(sec) #numero total de simbolos de la secuencia\n",
    "    proba = [] # se crea un arreglo con  sus probabilidades \n",
    "    for i in range(len(x)):\n",
    "        proba += [probabilidad(x[i],simbolos_totales,sec)]\n",
    "#..........................................................................................................................\n",
    "#......................Se Creara un dataframe con los simbolos y sus probabilidades........................................\n",
    "#..........................................................................................................................\n",
    "    df = pd.DataFrame({'Simbolo': x,'Probabilidad': proba, 'Code': ''})\n",
    "    df.index = df['Simbolo']\n",
    "    df.drop(['Simbolo'], axis= 1 , inplace= True)\n",
    "#...........................................................................................................................\n",
    "#.............................Ordenamiento de las probabilidades(Descendente)...............................................\n",
    "#...........................................................................................................................\n",
    "    df.sort_values(by=['Probabilidad'], ascending = False, inplace = True)\n",
    "#............................................................................................................................\n",
    "#..........................................Obtencion del alfabeto de codificacion............................................\n",
    "#............................................................................................................................\n",
    "    df = code(df)\n",
    "    a = df.copy()\n",
    "    return a\n",
    "#............................................................................................................................\n",
    "#...............................................Codificacion.................................................................\n",
    "#............................................................................................................................\n",
    "def codificacionShannon(x,sec,largo):# x corresponde al alfabeto , sec a secuencia, largo = tramo de la secuencia a codificar\n",
    "    df = shannon(x,sec)\n",
    "    codificacion = ''\n",
    "    for i in range(largo): # largo tiene que se >0\n",
    "        codificacion += df[df.index == sec[i]].Code[0]\n",
    "    return codificacion\n",
    "        "
   ]
  },
  {
   "cell_type": "code",
   "execution_count": 190,
   "metadata": {},
   "outputs": [
    {
     "name": "stdout",
     "output_type": "stream",
     "text": [
      "0.0 en codificar\n",
      "011011001101011011001\n"
     ]
    },
    {
     "name": "stderr",
     "output_type": "stream",
     "text": [
      "C:\\Users\\Spun\\miniconda3\\lib\\site-packages\\pandas\\core\\generic.py:5303: SettingWithCopyWarning: \n",
      "A value is trying to be set on a copy of a slice from a DataFrame.\n",
      "Try using .loc[row_indexer,col_indexer] = value instead\n",
      "\n",
      "See the caveats in the documentation: https://pandas.pydata.org/pandas-docs/stable/user_guide/indexing.html#returning-a-view-versus-a-copy\n",
      "  self[name] = value\n"
     ]
    }
   ],
   "source": [
    "inicio = time.time()\n",
    "codificacion = codificacionShannon(alfabeto_dna,data_dna,10)#codificacion del caracter 1 hasta el 999\n",
    "final = time.time()\n",
    "print(round(final-inicio,1),'en codificar')\n",
    "print(codificacion)"
   ]
  },
  {
   "cell_type": "markdown",
   "metadata": {},
   "source": [
    "# 4. Implementacion Algoritmo Decodificacion Shannon"
   ]
  },
  {
   "cell_type": "code",
   "execution_count": 191,
   "metadata": {},
   "outputs": [],
   "source": [
    "def dividirTabla(tabla,k,cod): #funcion para dividir la tabla donde tabla = tabla, k=posicion de tabla.Code[j][k],\n",
    "                               #cod = la posicion x de nuestro codigo codigo[i]\n",
    "    j = 0 #parte en j= 0, j sera el largo de nuestra nueva tabla si es 1 o el inicio de nuestra nueva tabla si es 0\n",
    "    if cod == '1': # si es 1 entonces a j se le sumara unos hasta que en la columna de codigos de la tabla el elemento k sea\n",
    "                   # distinto de 1\n",
    "        while(tabla.Code[j][k] =='1') :\n",
    "            j += 1\n",
    "        return tabla[0:j] # retorno la tabla desde la posicion 0 hasta la j ya que esta me devolvera todos los valores que en la\n",
    "                         #k-esima posicion sean 1 ( esto se hizo asi por que siempre las tablas de shannon parten con 1xxxx y\n",
    "                            #termina con 0xxxx\n",
    "    if cod == '0': # si es 0 entonces a j se le sumaran unos hasta que en la columna de codigos de la tabla el elemento k sea\n",
    "                    # igual a 0\n",
    "        while(tabla.Code[j][k] !='0'):\n",
    "            j += 1\n",
    "        return tabla[j:len(tabla)] #retorna la tabla desde la posicion j hasta el largo de la tabla actual\n",
    "    \n",
    "\n",
    "def decodificacionShannon(x,sec,codigo):\n",
    "    decodificacion = ''\n",
    "    tabla = shannon(x,sec) # obtengo la tabla\n",
    "    tabla_inicial = tabla.copy() # hago una copia de la tabla\n",
    "    k = 0\n",
    "    for i in range(len(codigo)):\n",
    "        tabla = dividirTabla(tabla,k,codigo[i]) #divide recursivamente la tabla hasta llegar a una con largo 1\n",
    "        k += 1 # se le suma 1 a k para que la siguiente vez que entre a la funcion dividirTabla busque en el segundo elemento\n",
    "               #de la columna code de la tabla\n",
    "        if len(tabla)==1 : #al llegar al largo 1 obtendremos el indice de esta ya que este pertenece al simbolo\n",
    "            decodificacion += tabla.index[0] #concateno el simbolo con lo que estaba antes para asi ir formando la decodificacion\n",
    "            tabla = tabla_inicial # reseteo la tabla para que al buscar el segundo simbolo esta parta de 0 \n",
    "            k=0 #reseteo el k para a la siguiente vuelta busque en tabla.Code[j][0]\n",
    "    return decodificacion"
   ]
  },
  {
   "cell_type": "code",
   "execution_count": 192,
   "metadata": {},
   "outputs": [
    {
     "data": {
      "text/plain": [
       "'GATCAATGAG'"
      ]
     },
     "execution_count": 192,
     "metadata": {},
     "output_type": "execute_result"
    }
   ],
   "source": [
    "decodificacionShannon(alfabeto_dna,data_dna,codificacion)"
   ]
  },
  {
   "cell_type": "code",
   "execution_count": 193,
   "metadata": {},
   "outputs": [
    {
     "data": {
      "text/html": [
       "<div>\n",
       "<style scoped>\n",
       "    .dataframe tbody tr th:only-of-type {\n",
       "        vertical-align: middle;\n",
       "    }\n",
       "\n",
       "    .dataframe tbody tr th {\n",
       "        vertical-align: top;\n",
       "    }\n",
       "\n",
       "    .dataframe thead th {\n",
       "        text-align: right;\n",
       "    }\n",
       "</style>\n",
       "<table border=\"1\" class=\"dataframe\">\n",
       "  <thead>\n",
       "    <tr style=\"text-align: right;\">\n",
       "      <th></th>\n",
       "      <th>Probabilidad</th>\n",
       "      <th>Code</th>\n",
       "    </tr>\n",
       "    <tr>\n",
       "      <th>Simbolo</th>\n",
       "      <th></th>\n",
       "      <th></th>\n",
       "    </tr>\n",
       "  </thead>\n",
       "  <tbody>\n",
       "    <tr>\n",
       "      <th>T</th>\n",
       "      <td>0.270851</td>\n",
       "      <td>11</td>\n",
       "    </tr>\n",
       "    <tr>\n",
       "      <th>A</th>\n",
       "      <td>0.257934</td>\n",
       "      <td>10</td>\n",
       "    </tr>\n",
       "    <tr>\n",
       "      <th>G</th>\n",
       "      <td>0.236779</td>\n",
       "      <td>01</td>\n",
       "    </tr>\n",
       "    <tr>\n",
       "      <th>C</th>\n",
       "      <td>0.234429</td>\n",
       "      <td>001</td>\n",
       "    </tr>\n",
       "    <tr>\n",
       "      <th>\\n</th>\n",
       "      <td>0.000006</td>\n",
       "      <td>0001</td>\n",
       "    </tr>\n",
       "    <tr>\n",
       "      <th>N</th>\n",
       "      <td>0.000001</td>\n",
       "      <td>0000</td>\n",
       "    </tr>\n",
       "  </tbody>\n",
       "</table>\n",
       "</div>"
      ],
      "text/plain": [
       "         Probabilidad  Code\n",
       "Simbolo                    \n",
       "T            0.270851    11\n",
       "A            0.257934    10\n",
       "G            0.236779    01\n",
       "C            0.234429   001\n",
       "\\n           0.000006  0001\n",
       "N            0.000001  0000"
      ]
     },
     "execution_count": 193,
     "metadata": {},
     "output_type": "execute_result"
    }
   ],
   "source": [
    "shannon(alfabeto_dna, data_dna)"
   ]
  },
  {
   "cell_type": "markdown",
   "metadata": {},
   "source": [
    "# 5. Implementacion Algoritmo Huffman Canonico"
   ]
  },
  {
   "cell_type": "code",
   "execution_count": 194,
   "metadata": {},
   "outputs": [],
   "source": [
    "class Node: # declaracion de variables para crear los nodos\n",
    "    # properties\n",
    "    probability = 0.0 # inicializamos \n",
    "    symbol = \"\"\n",
    "    encoding = \"\" \n",
    "    visited = False\n",
    "    parent = -1 # longitud de 0 a -1    "
   ]
  },
  {
   "cell_type": "code",
   "execution_count": 195,
   "metadata": {},
   "outputs": [],
   "source": [
    "class Huffman: # declaracion de variables para la creacion del arbol de Huffman\n",
    "    Tree = None # retornar arbol\n",
    "    Root = None # retornar raiz\n",
    "    Nodes = [] #Lista\n",
    "    probs = {} #bloque\n",
    "    dictEncoder = {}\n",
    "    \n",
    "    # métodos\n",
    "    def __init__(self, symbols):\n",
    "        self.initNodes(symbols)\n",
    "        self.buildTree()\n",
    "        self.buildDictionary()\n",
    "    \n",
    "    def initNodes(self, probs): # creamos los nodos con sus respectivas probabiliddes\n",
    "        for symbol in probs:\n",
    "            node = Node() # inicializamos el node\n",
    "            node.symbol = symbol \n",
    "            node.probability = probs[symbol] # asignamos una probabilidad a cada simbolo o letra\n",
    "            node.visited = False # variable q no es fija que va ir cambiando \n",
    "            self.Nodes.append(node) # creamos una lista por cada nodo creado\n",
    "            self.probs[symbol]=probs[symbol]  # establece para cada probabilidad un simbolo    \n",
    "            \n",
    "    def buildTree(self): # Realizamos las operaciones de acuerdo al regamente para la construccion del arbol de Huffman\n",
    "        indexMin1 = self.getNodeWithMinimumProb() # Buscamos el menor numero de la primera probabilidad\n",
    "        indexMin2 = self.getNodeWithMinimumProb() # Buscamos el menor numero de la segunda probabilidad \n",
    "        \n",
    "        while indexMin1 != -1 and indexMin2 != -1: # != evalúa como verdadero si 2 variables son diferentes\n",
    "            node = Node() # inicializamos\n",
    "            node.symbol = \".\"\n",
    "            node.encoding = \"\"\n",
    "            # llamamos a las dos probabilidades minimas\n",
    "            prob1 = self.Nodes[indexMin1].probability\n",
    "            prob2 = self.Nodes[indexMin2].probability\n",
    "            node.probability = prob1 + prob2 # sumamos las probabilidades\n",
    "            node.visited = False # false = 1\n",
    "            node.parent = -1 # restamos la probabilidad a -1\n",
    "            self.Nodes.append(node)\n",
    "            self.Nodes[indexMin1].parent = len(self.Nodes) - 1 #  lista o cadena que queremos medir\n",
    "            self.Nodes[indexMin2].parent = len(self.Nodes) - 1\n",
    "            \n",
    "            # Regla: 0 a mayor probabilidad, 1 a menor probabilidad.\n",
    "            if prob1 >= prob2:\n",
    "                self.Nodes[indexMin1].encoding = \"0\"\n",
    "                self.Nodes[indexMin2].encoding = \"1\"\n",
    "            else:\n",
    "                self.Nodes[indexMin1].encoding = \"1\"\n",
    "                self.Nodes[indexMin2].encoding = \"0\"\n",
    "            \n",
    "            indexMin1 = self.getNodeWithMinimumProb()\n",
    "            indexMin2 = self.getNodeWithMinimumProb()\n",
    "            \n",
    "    def getNodeWithMinimumProb(self): # realizamos una comparacion para obtener el nodo de menor probabilidad\n",
    "        minProb = 1.0   # La minima probabilidad no puede ser mayor de 1\n",
    "        indexMin = -1 # indice para restar a la probalidad\n",
    "\n",
    "        for index in range(0, len(self.Nodes)): # index es el numero de probabilidad \n",
    "            if (self.Nodes[index].probability < minProb  and (not self.Nodes[index].visited)):\n",
    "                minProb = self.Nodes[index].probability\n",
    "                indexMin = index\n",
    "\n",
    "        if indexMin != -1:\n",
    "            self.Nodes[indexMin].visited = True\n",
    "\n",
    "        return indexMin\n",
    "    \n",
    "    def showSymbolEncoding(self, symbol): # designamos un codigo binario a cada simbolo resuelto por el arbol de Huffman\n",
    "        found = False\n",
    "        index = 0\n",
    "        encoding = \"\"\n",
    "\n",
    "        for i  in range(0, len(self.Nodes)):\n",
    "            if self.Nodes[i].symbol == symbol:\n",
    "                found = True\n",
    "                index = i\n",
    "                break \n",
    "        \n",
    "        if found: # encontro \n",
    "            while index != -1: # si son diferentes\n",
    "                encoding = \"%s%s\" % (self.Nodes[index].encoding, encoding)      \n",
    "                index = self.Nodes[index].parent\n",
    "        else:\n",
    "            encoding = \"simbolo desconocido\"\n",
    "\n",
    "        return encoding\n",
    "    \n",
    "    def buildDictionary(self): # creamos un diccionario, guardamos todos los simbolos con sus respectivos codigos binarios resueltos por el arbol de Huffman\n",
    "        for symbol in self.probs:\n",
    "            encoding = self.showSymbolEncoding(symbol)\n",
    "            self.dictEncoder[symbol] = encoding\n",
    "                \n",
    "    def encode(self, plain): # agrupa los codigos binarios codificados de acuerdo al mensaje escrito en consola\n",
    "        encoded = \"\"\n",
    "        for symbol in plain:\n",
    "            encoded = \"%s%s\" % (encoded, self.dictEncoder[symbol])\n",
    "\n",
    "        return encoded\n",
    "    \n",
    "    ##DECODIFICACION DE HUFFMAN\n",
    "    \n",
    "    def decode(self, encoded): # recibe la cadena del codigo binario enviado desde el emisor para decodificar\n",
    "        index = 0\n",
    "        decoded = \"\"\n",
    "    \n",
    "\n",
    "        while index < len(encoded): # mientras buscamos en la longitud de la parte codificada\n",
    "\n",
    "    \n",
    "            founf = False # establesemos una variable\n",
    "    \n",
    "            aux = encoded[index:] # va a buscar a cada parte codificada un simbolo\n",
    "                                  # no va ser fija va ir buscando cual es compatible con cada una\n",
    "\n",
    "    \n",
    "            for symbol in self.probs:\n",
    "                if aux.startswith(self.dictEncoder[symbol]): # se comprueba si la cadena es verdadera o falsa. si la parte axuliar inicia dentro del diccionario encodificado  nos va a dar\n",
    "                    decoded = \"%s%s\" % (decoded, symbol) # parte decodificada\n",
    "                    index = index + len(self.dictEncoder[symbol]) # busqueda para cada simbolo a cada probabilidad\n",
    "                    break \n",
    "        \n",
    "        return decoded"
   ]
  },
  {
   "cell_type": "code",
   "execution_count": 222,
   "metadata": {},
   "outputs": [],
   "source": [
    "mensaje = data_english[0:3000]\n",
    "simbolos=''\n",
    "probs=[]\n",
    "msm=mensaje\n",
    "d=0\n",
    "\n",
    "for i in mensaje:\n",
    "        if i in msm:\n",
    "            simbolos+=i\n",
    "            probs.append(float(float ( msm.count(i))/float(len(mensaje))))\n",
    "            msm=msm.replace(i,'')\n",
    "            d+= 1\n",
    "symbols=dict(zip(simbolos, probs))\n",
    "huffman = Huffman(symbols)\n",
    "for symbol in symbols:\n",
    "    encoded = huffman.encode(mensaje)\n",
    "data = encoded # este tiene la codificacionH\n",
    "decoded = huffman.decode(data)"
   ]
  },
  {
   "cell_type": "code",
   "execution_count": null,
   "metadata": {},
   "outputs": [],
   "source": []
  },
  {
   "cell_type": "code",
   "execution_count": 198,
   "metadata": {},
   "outputs": [],
   "source": []
  },
  {
   "cell_type": "code",
   "execution_count": null,
   "metadata": {},
   "outputs": [],
   "source": []
  },
  {
   "cell_type": "markdown",
   "metadata": {},
   "source": [
    "# Experimentacion"
   ]
  },
  {
   "cell_type": "markdown",
   "metadata": {},
   "source": [
    "## Tiempo de extraccion de prefijos del texto"
   ]
  },
  {
   "cell_type": "code",
   "execution_count": 322,
   "metadata": {},
   "outputs": [],
   "source": [
    "codificacionF_dna = codificacionShannon(alfabeto_dna,data_dna,3000)\n",
    "codificacionF_english = codificacionShannon(alfabeto_english,data_english,3000)\n",
    "codificacionH_dna = huffman.encode(data_dna[0:3000])\n",
    "codificacionH_english = huffman.encode(data_english[0:3000])"
   ]
  },
  {
   "cell_type": "code",
   "execution_count": 353,
   "metadata": {},
   "outputs": [
    {
     "name": "stdout",
     "output_type": "stream",
     "text": [
      "para el texto dna se extrajo el siguiente texto: \n",
      " GATCAATGAGGTGGACACCAGAGGCGGGGACTTGTAAATAACACTGGGCTGTAGGAGTGATGGGGTTCACCTCTAATTCTAAGATGGCTAGATAATGCATCTTTCAGGGTTGTGCTTCTATCTAGAAGGTAGAGCTGTGGTCGTTCAATAAAAGTCCTCAAGAGGTTGGTTAATACGCATGTTTAATAGTACAGTATGGTGACTATAGTCAACAATAATTTATTGTACATTTTTAAATAGCTAGAAGAAAAGCATTGGGAAGTTTCCAACATGAAGAAAAGATAAATGGTCAAGGGAATGGATATCCTAATTACCCTGATTTGATCATTATGCATTATATACATGAATCAAAATATCACACATACCTTCAAACTATGTACAAATATTATATACCAATAAAAAATCATCATCATCATCTCCATCATCACCACCCTCCTCCTCATCACCACCAGCATCACCACCATCATCACCACCACCATCATCACCACCACCACTGCCATCATCATCACCACCACTGTGCCATCATCATCACCACCACTGTCATTATCACCACCACCATCATCACCAACACCACTGCCATCGTCATCACCACCACTGTCATTATCACCACCACCATCACCAACATCACCACCACCATTATCACCACCATCAACACCACCACCCCCATCATCATCATCACTACTACCATCATTACCAGCACCACCACCACTATCACCACCACCACCACAATCACCATCACCACTATCATCAACATCATCACTACCACCATCACCAACACCACCATCATTATCACCACCACCACCATCACCAACATCACCACCATCATCATCACCACCATCACCAAGACCATCATCATCACCATCACCACCAACATCACCACCATCACCAACACCACCATCACCACCACCACCACCATCATCACCACCACCACCATCATCATCACCACCACCGCCATCATCATCGCCACCACCATGACCACCACCATCACAACCATCACCACCATCACAACCACCATCATCACTATCGCTATCACCACCATCACCATTACCACCACCATTACTACAACCATGACCATCACCACCATCACCACCACCATCACAACGATCACCATCACAGCCACCATCATCACCACCACCACCACCACCATCACCATCAAACCATCGGCATTATTATTTTTTTAGAATTTTGTTGGGATTCAGTATCTGCCAAGATACCCATTCTTAAAACATGAAAAAGCAGCTGACCCTCCTGTGGCCCCCTTTTTGGGCAGTCATTGCAGGACCTCATCCCCAAGCAGCAGCTCTGGTGGCATACAGGCAACCCACCACCAAGGTAGAGGGTAATTGAGCAGAAAAGCCACTTCCTCCAGCAGTTCCCTGTCTGAGCTGCTGTCCTTGGACTTGAAGAAGCTTCTGGAACATGCTGGGGAGGAAGGAAGACATTTCACTTATTGAGTGGCCTGATGCAGAACAGAGACCCAGCTGGTTCACTCTAGTTCGGACTAAAACTCACCCCTGTCTATAAGCATCAGCCTCGGCAGGATGCATTTCACATTTGTGATCTCATTTAACCTCCACAAAGACCCAGAAGGGTTGGTAACATTATCATACCTAGGCCTACTATTTTAAAAATCTAACACCCATGCAGCCCGGGCACTGAAGTGGAGGCTGGCCACGGAGAGAGCCAGGCAATCACTGGCTTTTCCTTAGACAGAGAGCTGGTTCCTAGGAGAAGAAGCTCCAGGCTGGGGTCCAGGCTATGACCCAACTGTTCAGTTTTGCAACATCCAGCATGGCTGCCTGATCAGGGGTGCATATGTCAGAGGAGCCTTCAGCTGGGAAGTGCTGACAAATGACCCAGACCTGACCTGCCCGATGCCAAGGCCTCCTTTAGTACATCCCATGGAGGACACTTGAGACAAAGTCACAGCTCAGCCCGTTGATTTCCCATGCTCTGACTGTGCGGTGCAGCAGGACCCCTAGCAGGCAGCATGTGTTCAAGGCAGCGATATCCAAATGCTATGAATTGCTGTCCTGATGGTTATTTTCCTGCATACAGTAGAGCTGATCCCTGTACAATGCTGGTCCTAAATCTCACCTTTGACAGTGCGCTGATGTGCAATGTTTGCTTTTGTTTTATTTGATGGAACATGGCTAATTGCTAAGAAGGTGACATGCTGCCCACTGACCACCCAATGTTCATTCTCCTCTTCTTCCTTACTAACAAAACTGCGGTGGTGGTGGTGAGGAGAGGGAGGGGGTATAACAAATGTGCCAAGCCAAGAGTTTATATTTGCAAGCCTCTCTTATACCTAGAGTTGATCGTGACACAGCTCTGGCCAATGATGTGTAAGCAGAAGTTGCTTGATGTGACTTCTGGCAAAGCTCTTAAGGAGAGGACTGACCTGTTTCCACATATCTTTTTCCTTTCCGTGTCCTTAGTCCTGGCTGGGATGCAGATGAGATGCAAAAGGTGGAGCAGCCATGTTGTCATCAGGCAGTAACAGGTCTGAGGGTAGAAGCTGCATTCTGATAATACCAGGGAAAAATAATACAAGTAGTCTAGGGCCCAGAGATATCACAGATGTCCATTTGAACCCCAAATTACCTGTCTCCAGATTTGCTATCAGGCAAGAAA\n"
     ]
    }
   ],
   "source": [
    "data1 = data_dna[0:random.randrange(3000)]\n",
    "data2 = data_english[0:random.randrange(3000)]\n",
    "print(\"para el texto dna se extrajo el siguiente texto: \\n\\n\",data1)\n",
    "print(\"para el texto english se extrajo el siguiente texto: \\n\\n\",data2)"
   ]
  },
  {
   "cell_type": "code",
   "execution_count": 343,
   "metadata": {},
   "outputs": [
    {
     "name": "stdout",
     "output_type": "stream",
     "text": [
      "2.0 en decodificar por shannon el texto dna\n"
     ]
    }
   ],
   "source": [
    "inicio = time.time()\n",
    "decodificacion = decodificacionShannon(alfabeto_dna,data_dna,codificacionF_dna)\n",
    "decodificacionF_dna = decodificacion[0:len(data1)]\n",
    "final = time.time()\n",
    "print(round(final-inicio,1),'en decodificar por shannon el texto dna')"
   ]
  },
  {
   "cell_type": "code",
   "execution_count": 344,
   "metadata": {},
   "outputs": [
    {
     "name": "stdout",
     "output_type": "stream",
     "text": [
      "5.8 en decodificar por shannon el texto english\n"
     ]
    }
   ],
   "source": [
    "## para el texto english\n",
    "inicio = time.time()\n",
    "decodificacion = decodificacionShannon(alfabeto_english,data_english,codificacionF_english)\n",
    "decodificacionF_english = decodificacion[0:len(data2)]\n",
    "final = time.time()\n",
    "print(round(final-inicio,1),'en decodificar por shannon el texto english')"
   ]
  },
  {
   "cell_type": "code",
   "execution_count": 345,
   "metadata": {},
   "outputs": [
    {
     "name": "stdout",
     "output_type": "stream",
     "text": [
      "True\n",
      "True\n"
     ]
    }
   ],
   "source": [
    "#se comprobara que ambas sean iguales\n",
    "print(data1 == decodificacionF_dna)\n",
    "print(data2 == decodificacionF_english)"
   ]
  },
  {
   "cell_type": "code",
   "execution_count": 289,
   "metadata": {},
   "outputs": [
    {
     "name": "stdout",
     "output_type": "stream",
     "text": [
      "0.0 en decodificar por huffman el texto dna\n",
      "0.0 en decodificar por huffman el texto english\n"
     ]
    }
   ],
   "source": [
    "inicio = time.time()\n",
    "decodificacionH_dna = huffman.decode(codificacionH_dna)\n",
    "final = time.time()\n",
    "print(round(final-inicio,1),'en decodificar por huffman el texto dna')\n",
    "\n",
    "inicio = time.time()\n",
    "decodificacionH_en = huffman.decode(codificacionH_english)\n",
    "print(round(final-inicio,1),'en decodificar por huffman el texto english')\n",
    "final = time.time()"
   ]
  },
  {
   "cell_type": "code",
   "execution_count": null,
   "metadata": {},
   "outputs": [],
   "source": []
  },
  {
   "cell_type": "code",
   "execution_count": null,
   "metadata": {},
   "outputs": [],
   "source": []
  },
  {
   "cell_type": "code",
   "execution_count": null,
   "metadata": {},
   "outputs": [],
   "source": []
  }
 ],
 "metadata": {
  "kernelspec": {
   "display_name": "Python 3",
   "language": "python",
   "name": "python3"
  },
  "language_info": {
   "codemirror_mode": {
    "name": "ipython",
    "version": 3
   },
   "file_extension": ".py",
   "mimetype": "text/x-python",
   "name": "python",
   "nbconvert_exporter": "python",
   "pygments_lexer": "ipython3",
   "version": "3.7.7"
  }
 },
 "nbformat": 4,
 "nbformat_minor": 4
}
