{
 "cells": [
  {
   "cell_type": "markdown",
   "metadata": {},
   "source": [
    "<h1><center>Tarea 1: Esquemas de Decodificacion Instantanea - INFO145</center></h1>\n"
   ]
  },
  {
   "cell_type": "markdown",
   "metadata": {},
   "source": [
    "# 1. Importacion de T[1..N] y Librerias"
   ]
  },
  {
   "cell_type": "code",
   "execution_count": 1,
   "metadata": {},
   "outputs": [],
   "source": [
    "#importacion librerias"
   ]
  },
  {
   "cell_type": "code",
   "execution_count": 2,
   "metadata": {},
   "outputs": [],
   "source": [
    "# importacion T[1..N] de dna.1MB\n",
    "file = open('dna.1MB','r')\n",
    "data_dna=file.readlines() \n",
    "file.close() \n"
   ]
  },
  {
   "cell_type": "code",
   "execution_count": 3,
   "metadata": {},
   "outputs": [],
   "source": [
    "# Importacion T[1..N] de english.1MB\n",
    "file = open('english.1MB','r')\n",
    "data_english=file.readlines() \n",
    "file.close() \n"
   ]
  },
  {
   "cell_type": "markdown",
   "metadata": {},
   "source": [
    "# 2. Obtencion del alfabeto del texto"
   ]
  },
  {
   "cell_type": "code",
   "execution_count": 4,
   "metadata": {},
   "outputs": [],
   "source": [
    "def no_esta(array,b):\n",
    "    verificador = True\n",
    "    for i in range(len(array)):\n",
    "        if array[i] == b :\n",
    "            verificador = False\n",
    "    return verificador"
   ]
  },
  {
   "cell_type": "code",
   "execution_count": 5,
   "metadata": {},
   "outputs": [],
   "source": [
    "alfabeto_dna = [data_dna[0][0]]\n",
    "for i in range(len(data_dna)):\n",
    "    for j in range(len(data_dna[i])):\n",
    "        if no_esta(alfabeto_dna,data_dna[i][j]):\n",
    "            alfabeto_dna +=  data_dna[i][j]\n",
    "\n",
    "alfabeto_english = [data_english[0][0]]\n",
    "for i in range(len(data_english)):\n",
    "    for j in range(len(data_english[i])):\n",
    "        if no_esta(alfabeto_english,data_english[i][j]):\n",
    "            alfabeto_english +=  data_english[i][j]\n"
   ]
  },
  {
   "cell_type": "code",
   "execution_count": 6,
   "metadata": {},
   "outputs": [
    {
     "name": "stdout",
     "output_type": "stream",
     "text": [
      "Alfabeto del texto DNA:  ['G', 'A', 'T', 'C', '\\n', 'N']\n",
      "Alfabeto del texto English:  ['\\n', 'T', 'h', 'i', 's', ' ', 'e', 't', 'x', 'w', 'a', 'p', 'r', 'o', 'd', 'u', 'c', 'b', 'y', 'N', 'm', 'l', 'W', '.', 'n', 'D', 'S', 'k', 'J', 'R', '[', \"'\", ':', 'I', 'O', '8', '9', '1', '-', 'L', '(', ')', 'f', ',', 'A', 'g', 'v', '\"', '_', '7', '0', '2', 'G', 'F', '/', '3', '4', '6', '5', 'E', 'M', 'B', 'P', 'H', 'U', ']', 'C', 'V', 'q', '’', 'X', '—', 'z', '“', '”', ';', '?', 'K', '…', 'j', 'é', 'Y', 'Z', '!', 'Q', '%', '*', 'æ', 'ü', 'ç', '|', '&', '#', 'è', 'ë', '+', '–', '‘', 'ô', '{', '}', '$', 'É', '>', '\\t', 'ö']\n"
     ]
    }
   ],
   "source": [
    "print('Alfabeto del texto DNA: ',alfabeto_dna)\n",
    "print('Alfabeto del texto English: ',alfabeto_english)"
   ]
  },
  {
   "cell_type": "markdown",
   "metadata": {},
   "source": [
    "# 3. Obtencion de las probabilidades de aparicion del alfabeto en el texto "
   ]
  },
  {
   "cell_type": "markdown",
   "metadata": {},
   "source": [
    "* ## Para el texto DNA"
   ]
  },
  {
   "cell_type": "code",
   "execution_count": 7,
   "metadata": {},
   "outputs": [],
   "source": [
    "#numero total de simbolos de digitos del texto DNA\n",
    "simbolos_totales = 0\n",
    "for i in range(len(data_dna)):\n",
    "    for j in range(len(data_dna[i])):\n",
    "        simbolos_totales += 1\n"
   ]
  },
  {
   "cell_type": "code",
   "execution_count": 8,
   "metadata": {},
   "outputs": [],
   "source": [
    "#funcion para retornar la probabilidad de aparicion del digito en el texto DNA\n",
    "def probabilidad(simbolo,simbolo_totales):\n",
    "    contador = 0\n",
    "    for i in range(len(data_dna)):\n",
    "        contador = contador + data_dna[i].count(simbolo)\n",
    "    return contador/simbolo_totales"
   ]
  },
  {
   "cell_type": "code",
   "execution_count": 9,
   "metadata": {},
   "outputs": [
    {
     "name": "stdout",
     "output_type": "stream",
     "text": [
      "[[0.236779, 'G'], [0.257934, 'A'], [0.270851, 'T'], [0.234429, 'C'], [6e-06, '\\n'], [1e-06, 'N']]\n"
     ]
    }
   ],
   "source": [
    "# se crea un arreglo con los digitos y sus probabilidades del texto DNA\n",
    "probs_dna = []\n",
    "for i in range(len(alfabeto_dna)):\n",
    "    probs_dna += [[probabilidad(alfabeto_dna[i],simbolos_totales),alfabeto_dna[i]]]\n",
    "print(probs_dna)"
   ]
  },
  {
   "cell_type": "markdown",
   "metadata": {},
   "source": [
    "* ## Para el texto ENGLISH"
   ]
  },
  {
   "cell_type": "code",
   "execution_count": 10,
   "metadata": {},
   "outputs": [],
   "source": [
    "#numero total de simbolos de digitos del texto ENGLISH\n",
    "simbolos_totales = 0\n",
    "for i in range(len(data_english)):\n",
    "    for j in range(len(data_english[i])):\n",
    "        simbolos_totales += 1\n"
   ]
  },
  {
   "cell_type": "code",
   "execution_count": 11,
   "metadata": {},
   "outputs": [],
   "source": [
    "#funcion para retornar la probabilidad de aparicion del digito en el texto ENGLISH\n",
    "def probabilidad(simbolo,simbolo_totales):\n",
    "    contador = 0\n",
    "    for i in range(len(data_english)):\n",
    "        contador = contador + data_english[i].count(simbolo)\n",
    "    return contador/simbolo_totales"
   ]
  },
  {
   "cell_type": "code",
   "execution_count": 12,
   "metadata": {},
   "outputs": [],
   "source": [
    "# se crea un arreglo con los digitos y sus probabilidades del texto ENGLISH\n",
    "probs_en = []\n",
    "for i in range(len(alfabeto_english)):\n",
    "    probs_en += [[probabilidad(alfabeto_english[i],simbolos_totales),alfabeto_english[i]]]"
   ]
  },
  {
   "cell_type": "markdown",
   "metadata": {},
   "source": [
    "# 4. Validacion de las probabilidades"
   ]
  },
  {
   "cell_type": "code",
   "execution_count": 23,
   "metadata": {},
   "outputs": [
    {
     "name": "stdout",
     "output_type": "stream",
     "text": [
      "suma de probabilidades dna:  0.9999999999999999\n"
     ]
    }
   ],
   "source": [
    "suma = 0\n",
    "for i in range(len(probs_dna)):\n",
    "    suma += probs_dna[i][0]\n",
    "print('suma de probabilidades dna: ',suma)"
   ]
  },
  {
   "cell_type": "code",
   "execution_count": 26,
   "metadata": {},
   "outputs": [
    {
     "name": "stdout",
     "output_type": "stream",
     "text": [
      "suma de probabilidades english:  0.9999999999999999\n"
     ]
    }
   ],
   "source": [
    "suma = 0\n",
    "for i in range(len(probs_en)):\n",
    "    suma += probs_en[i][0]\n",
    "print('suma de probabilidades english: ',suma)"
   ]
  },
  {
   "cell_type": "markdown",
   "metadata": {},
   "source": [
    "# 5. Ordenamiento de las probabilidades (Descendente)"
   ]
  },
  {
   "cell_type": "code",
   "execution_count": 28,
   "metadata": {},
   "outputs": [
    {
     "name": "stdout",
     "output_type": "stream",
     "text": [
      "ordenamiento dna:  [[0.270851, 'T'], [0.257934, 'A'], [0.236779, 'G'], [0.234429, 'C'], [6e-06, '\\n'], [1e-06, 'N']]\n",
      "ordenamiento english:  [[0.161094, ' '], [0.097082, 'e'], [0.070068, 't'], [0.061488, 'o'], [0.05696, 'a'], [0.05071, 'n'], [0.050504, 'i'], [0.047405, 's'], [0.046167, 'r'], [0.042654, 'h'], [0.030897, 'l'], [0.030218, 'd'], [0.02089, '\\n'], [0.019684, 'u'], [0.017921, 'm'], [0.017749, 'c'], [0.016471, 'f'], [0.014139, 'w'], [0.013795, 'g'], [0.013422, 'p'], [0.012795, 'y'], [0.011918, ','], [0.011128, '.'], [0.009433, 'b'], [0.009334, 'v'], [0.007968, '-'], [0.006406, 'k'], [0.004132, '\"'], [0.003813, 'T'], [0.002918, 'S'], [0.00259, 'A'], [0.002524, 'C'], [0.002407, 'I'], [0.002274, 'R'], [0.001957, '_'], [0.001913, 'P'], [0.001449, 'W'], [0.001434, \"'\"], [0.001414, 'M'], [0.00131, 'B'], [0.001287, 'E'], [0.001272, 'G'], [0.001266, 'O'], [0.001219, 'N'], [0.00115, '!'], [0.00103, 'D'], [0.000938, 'x'], [0.000936, ';'], [0.000904, 'L'], [0.000874, 'H'], [0.000794, 'F'], [0.000691, 'K'], [0.000633, 'z'], [0.000573, 'q'], [0.00054, '1'], [0.000522, 'j'], [0.000486, '?'], [0.000429, '|'], [0.000394, '+'], [0.000386, 'U'], [0.000349, 'Y'], [0.000349, ':'], [0.000316, ')'], [0.000316, '('], [0.000311, 'V'], [0.000305, '“'], [0.000304, '’'], [0.000286, '\\t'], [0.000255, '0'], [0.000251, '2'], [0.000227, '…'], [0.000202, 'J'], [0.000173, '3'], [0.000167, '7'], [0.000167, '5'], [0.000149, '9'], [0.000142, '4'], [0.000131, '”'], [0.000128, '*'], [0.000124, '—'], [0.0001, '8'], [0.0001, '6'], [9.3e-05, 'Z'], [6.8e-05, 'X'], [5.3e-05, ']'], [5.3e-05, '['], [3.5e-05, 'é'], [2.5e-05, '‘'], [1.6e-05, 'Q'], [8e-06, 'ö'], [6e-06, '&'], [5e-06, 'æ'], [3e-06, 'è'], [3e-06, '/'], [3e-06, '%'], [2e-06, '–'], [2e-06, 'ü'], [2e-06, 'ë'], [2e-06, '}'], [2e-06, '{'], [2e-06, '>'], [2e-06, '#'], [1e-06, 'ô'], [1e-06, 'ç'], [1e-06, 'É'], [1e-06, '$']]\n"
     ]
    }
   ],
   "source": [
    "probs_dna = sorted(probs_dna,reverse=True)\n",
    "probs_en = sorted(probs_en,reverse=True)\n",
    "print('ordenamiento dna: ', probs_dna)\n",
    "print('ordenamiento english: ', probs_en)"
   ]
  },
  {
   "cell_type": "markdown",
   "metadata": {},
   "source": [
    "# 6. Implementacion Algoritmo Shannon"
   ]
  },
  {
   "cell_type": "code",
   "execution_count": null,
   "metadata": {},
   "outputs": [],
   "source": []
  },
  {
   "cell_type": "markdown",
   "metadata": {},
   "source": [
    "# 7. Implementacion Algoritmo Huffman Canonico"
   ]
  },
  {
   "cell_type": "code",
   "execution_count": null,
   "metadata": {},
   "outputs": [],
   "source": []
  },
  {
   "cell_type": "markdown",
   "metadata": {},
   "source": [
    "# 8. Implementacion Algoritmo Decodificacion Shannon"
   ]
  },
  {
   "cell_type": "code",
   "execution_count": null,
   "metadata": {},
   "outputs": [],
   "source": []
  },
  {
   "cell_type": "markdown",
   "metadata": {},
   "source": [
    "# 9. Implementacion Algoritmo Decodificacion Huffman Canonico"
   ]
  },
  {
   "cell_type": "code",
   "execution_count": null,
   "metadata": {},
   "outputs": [],
   "source": []
  }
 ],
 "metadata": {
  "kernelspec": {
   "display_name": "Python 3",
   "language": "python",
   "name": "python3"
  },
  "language_info": {
   "codemirror_mode": {
    "name": "ipython",
    "version": 3
   },
   "file_extension": ".py",
   "mimetype": "text/x-python",
   "name": "python",
   "nbconvert_exporter": "python",
   "pygments_lexer": "ipython3",
   "version": "3.8.3"
  }
 },
 "nbformat": 4,
 "nbformat_minor": 4
}
